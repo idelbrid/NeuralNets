{
 "cells": [
  {
   "cell_type": "code",
   "execution_count": 1,
   "metadata": {},
   "outputs": [
    {
     "name": "stderr",
     "output_type": "stream",
     "text": [
      "Using TensorFlow backend.\n"
     ]
    }
   ],
   "source": [
    "from minet import miNet"
   ]
  },
  {
   "cell_type": "code",
   "execution_count": 2,
   "metadata": {
    "collapsed": true
   },
   "outputs": [],
   "source": [
    "from synthetic_datasets import *"
   ]
  },
  {
   "cell_type": "code",
   "execution_count": 3,
   "metadata": {
    "collapsed": true
   },
   "outputs": [],
   "source": [
    "dataset, labels = create_mil_dataset(np.random.randint(3,10, size=100), negative_label=-1)\n",
    "sil_dataset, sil_labels = extract_sil_dataset(dataset, labels)\n",
    "strong_dataset, strong_labels = extract_instance_labeled_dataset(dataset)\n",
    "dataset2 = [np.array([y[:-1] for y in x]) for x in dataset] "
   ]
  },
  {
   "cell_type": "code",
   "execution_count": 4,
   "metadata": {
    "collapsed": true
   },
   "outputs": [],
   "source": [
    "model_miNet = miNet()"
   ]
  },
  {
   "cell_type": "code",
   "execution_count": 5,
   "metadata": {
    "collapsed": true
   },
   "outputs": [
    {
     "name": "stdout",
     "output_type": "stream",
     "text": [
      "Epoch 1/100\n",
      "0s - loss: 1.9953\n",
      "Epoch 2/100\n",
      "0s - loss: 1.6091\n",
      "Epoch 3/100\n",
      "0s - loss: 1.3113\n",
      "Epoch 4/100\n",
      "0s - loss: 1.1252\n",
      "Epoch 5/100\n",
      "0s - loss: 0.9905\n",
      "Epoch 6/100\n",
      "0s - loss: 0.8849\n",
      "Epoch 7/100\n",
      "0s - loss: 0.8057\n",
      "Epoch 8/100\n",
      "0s - loss: 0.7350\n",
      "Epoch 9/100\n",
      "0s - loss: 0.6786\n",
      "Epoch 10/100\n",
      "0s - loss: 0.6288\n",
      "Epoch 11/100\n",
      "0s - loss: 0.5699\n",
      "Epoch 12/100\n",
      "0s - loss: 0.5318\n",
      "Epoch 13/100\n",
      "0s - loss: 0.4781\n",
      "Epoch 14/100\n",
      "0s - loss: 0.4271\n",
      "Epoch 15/100\n",
      "0s - loss: 0.3775\n",
      "Epoch 16/100\n",
      "0s - loss: 0.3388\n",
      "Epoch 17/100\n",
      "0s - loss: 0.3075\n",
      "Epoch 18/100\n",
      "0s - loss: 0.2814\n",
      "Epoch 19/100\n",
      "0s - loss: 0.2588\n",
      "Epoch 20/100\n",
      "0s - loss: 0.2325\n",
      "Epoch 21/100\n",
      "0s - loss: 0.2007\n",
      "Epoch 22/100\n",
      "0s - loss: 0.1727\n",
      "Epoch 23/100\n",
      "0s - loss: 0.1522\n",
      "Epoch 24/100\n",
      "0s - loss: 0.1314\n",
      "Epoch 25/100\n",
      "0s - loss: 0.1105\n",
      "Epoch 26/100\n",
      "0s - loss: 0.0873\n",
      "Epoch 27/100\n",
      "0s - loss: 0.0666\n",
      "Epoch 28/100\n",
      "0s - loss: 0.0487\n",
      "Epoch 29/100\n",
      "0s - loss: 0.0266\n",
      "Epoch 30/100\n",
      "0s - loss: -7.3473e-04\n",
      "Epoch 31/100\n",
      "0s - loss: -1.8939e-02\n",
      "Epoch 32/100\n",
      "0s - loss: -3.8914e-02\n",
      "Epoch 33/100\n",
      "0s - loss: -6.0207e-02\n",
      "Epoch 34/100\n",
      "0s - loss: -8.1457e-02\n",
      "Epoch 35/100\n",
      "0s - loss: -1.0765e-01\n",
      "Epoch 36/100\n",
      "0s - loss: -1.3854e-01\n",
      "Epoch 37/100\n",
      "0s - loss: -1.6600e-01\n",
      "Epoch 38/100\n",
      "0s - loss: -1.9121e-01\n",
      "Epoch 39/100\n",
      "0s - loss: -2.2073e-01\n",
      "Epoch 40/100\n",
      "0s - loss: -2.5201e-01\n",
      "Epoch 41/100\n",
      "0s - loss: -2.7811e-01\n",
      "Epoch 42/100\n",
      "0s - loss: -3.0639e-01\n",
      "Epoch 43/100\n",
      "0s - loss: -3.4116e-01\n",
      "Epoch 44/100\n",
      "0s - loss: -3.7263e-01\n",
      "Epoch 45/100\n",
      "0s - loss: -4.0254e-01\n",
      "Epoch 46/100\n",
      "0s - loss: -4.2399e-01\n",
      "Epoch 47/100\n",
      "0s - loss: -4.5328e-01\n",
      "Epoch 48/100\n",
      "0s - loss: -4.8220e-01\n",
      "Epoch 49/100\n",
      "0s - loss: -5.0699e-01\n",
      "Epoch 50/100\n",
      "0s - loss: -5.3571e-01\n",
      "Epoch 51/100\n",
      "0s - loss: -5.6154e-01\n",
      "Epoch 52/100\n",
      "0s - loss: -5.8739e-01\n",
      "Epoch 53/100\n",
      "0s - loss: -6.1863e-01\n",
      "Epoch 54/100\n",
      "0s - loss: -6.4512e-01\n",
      "Epoch 55/100\n",
      "0s - loss: -6.7332e-01\n",
      "Epoch 56/100\n",
      "0s - loss: -7.0064e-01\n",
      "Epoch 57/100\n",
      "0s - loss: -7.2823e-01\n",
      "Epoch 58/100\n",
      "0s - loss: -7.5948e-01\n",
      "Epoch 59/100\n",
      "0s - loss: -7.9023e-01\n",
      "Epoch 60/100\n",
      "0s - loss: -8.2130e-01\n",
      "Epoch 61/100\n",
      "0s - loss: -8.5467e-01\n",
      "Epoch 62/100\n",
      "0s - loss: -8.8520e-01\n",
      "Epoch 63/100\n",
      "0s - loss: -9.0935e-01\n",
      "Epoch 64/100\n",
      "0s - loss: -9.4534e-01\n",
      "Epoch 65/100\n",
      "0s - loss: -9.7530e-01\n",
      "Epoch 66/100\n",
      "0s - loss: -1.0109e+00\n",
      "Epoch 67/100\n",
      "0s - loss: -1.0523e+00\n",
      "Epoch 68/100\n",
      "0s - loss: -1.0961e+00\n",
      "Epoch 69/100\n",
      "0s - loss: -1.1322e+00\n",
      "Epoch 70/100\n",
      "0s - loss: -1.1744e+00\n",
      "Epoch 71/100\n",
      "0s - loss: -1.2113e+00\n",
      "Epoch 72/100\n",
      "0s - loss: -1.2409e+00\n",
      "Epoch 73/100\n",
      "0s - loss: -1.2897e+00\n",
      "Epoch 74/100\n",
      "0s - loss: -1.3250e+00\n",
      "Epoch 75/100\n",
      "0s - loss: -1.3647e+00\n",
      "Epoch 76/100\n",
      "0s - loss: -1.3955e+00\n",
      "Epoch 77/100\n",
      "0s - loss: -1.4386e+00\n",
      "Epoch 78/100\n",
      "0s - loss: -1.4867e+00\n",
      "Epoch 79/100\n",
      "0s - loss: -1.5253e+00\n",
      "Epoch 80/100\n",
      "0s - loss: -1.5732e+00\n",
      "Epoch 81/100\n",
      "0s - loss: -1.6209e+00\n",
      "Epoch 82/100\n",
      "0s - loss: -1.6587e+00\n",
      "Epoch 83/100\n",
      "0s - loss: -1.7010e+00\n",
      "Epoch 84/100\n",
      "0s - loss: -1.7584e+00\n",
      "Epoch 85/100\n",
      "0s - loss: -1.8030e+00\n",
      "Epoch 86/100\n",
      "0s - loss: -1.8568e+00\n",
      "Epoch 87/100\n",
      "0s - loss: -1.9058e+00\n",
      "Epoch 88/100\n",
      "0s - loss: -1.9504e+00\n",
      "Epoch 89/100\n",
      "0s - loss: -2.0087e+00\n",
      "Epoch 90/100\n",
      "0s - loss: -2.0548e+00\n",
      "Epoch 91/100\n",
      "0s - loss: -2.1037e+00\n",
      "Epoch 92/100\n",
      "0s - loss: -2.1631e+00\n",
      "Epoch 93/100\n",
      "0s - loss: -2.2291e+00\n",
      "Epoch 94/100\n",
      "0s - loss: -2.3022e+00\n",
      "Epoch 95/100\n",
      "0s - loss: -2.3596e+00\n",
      "Epoch 96/100\n",
      "0s - loss: -2.4103e+00\n",
      "Epoch 97/100\n",
      "0s - loss: -2.4607e+00\n",
      "Epoch 98/100\n",
      "0s - loss: -2.5256e+00\n",
      "Epoch 99/100\n",
      "0s - loss: -2.5783e+00\n",
      "Epoch 100/100\n",
      "0s - loss: -2.6259e+00\n"
     ]
    },
    {
     "data": {
      "text/plain": [
       "miNet(activation='relu', agg='max', hidden_layer_sizes=(30,), iterations=100,\n",
       "   loss='binary_crossentropy', lr=0.01, optimizer='sgd', verbose=2)"
      ]
     },
     "execution_count": 5,
     "metadata": {},
     "output_type": "execute_result"
    }
   ],
   "source": [
    "model_miNet.fit(dataset2,labels)"
   ]
  },
  {
   "cell_type": "code",
   "execution_count": 6,
   "metadata": {
    "scrolled": true
   },
   "outputs": [],
   "source": [
    "pred, inst_pred = model_miNet.predict(dataset2, instancePrediction=True)"
   ]
  },
  {
   "cell_type": "code",
   "execution_count": 7,
   "metadata": {},
   "outputs": [
    {
     "data": {
      "text/plain": [
       "100"
      ]
     },
     "execution_count": 7,
     "metadata": {},
     "output_type": "execute_result"
    }
   ],
   "source": [
    "len(pred)"
   ]
  },
  {
   "cell_type": "code",
   "execution_count": 8,
   "metadata": {},
   "outputs": [
    {
     "data": {
      "text/plain": [
       "596"
      ]
     },
     "execution_count": 8,
     "metadata": {},
     "output_type": "execute_result"
    }
   ],
   "source": [
    "len(inst_pred)"
   ]
  },
  {
   "cell_type": "code",
   "execution_count": 9,
   "metadata": {},
   "outputs": [
    {
     "data": {
      "text/plain": [
       "596"
      ]
     },
     "execution_count": 9,
     "metadata": {},
     "output_type": "execute_result"
    }
   ],
   "source": [
    "len(sil_dataset)"
   ]
  },
  {
   "cell_type": "code",
   "execution_count": 7,
   "metadata": {
    "scrolled": false
   },
   "outputs": [
    {
     "data": {
      "text/plain": [
       "[<keras.engine.topology.InputLayer at 0x13834f26f60>,\n",
       " <keras.layers.core.Masking at 0x1382c4b7080>,\n",
       " <keras.layers.wrappers.TimeDistributed at 0x13834f314a8>,\n",
       " <minet.mask_utilities.ZeroMaskedEntries at 0x13835331d68>,\n",
       " <keras.layers.core.Lambda at 0x138350dfda0>]"
      ]
     },
     "execution_count": 7,
     "metadata": {},
     "output_type": "execute_result"
    }
   ],
   "source": [
    "model_miNet.model.layers"
   ]
  },
  {
   "cell_type": "code",
   "execution_count": null,
   "metadata": {
    "collapsed": true
   },
   "outputs": [],
   "source": [
    "from keras.layers import Input"
   ]
  },
  {
   "cell_type": "code",
   "execution_count": 7,
   "metadata": {},
   "outputs": [
    {
     "data": {
      "text/plain": [
       "(30,)"
      ]
     },
     "execution_count": 7,
     "metadata": {},
     "output_type": "execute_result"
    }
   ],
   "source": [
    "model_miNet.layer_sizes"
   ]
  },
  {
   "cell_type": "code",
   "execution_count": 10,
   "metadata": {},
   "outputs": [
    {
     "ename": "AttributeError",
     "evalue": "'list' object has no attribute 'shape'",
     "output_type": "error",
     "traceback": [
      "\u001b[1;31m---------------------------------------------------------------------------\u001b[0m",
      "\u001b[1;31mAttributeError\u001b[0m                            Traceback (most recent call last)",
      "\u001b[1;32m<ipython-input-10-336cc3a000d6>\u001b[0m in \u001b[0;36m<module>\u001b[1;34m()\u001b[0m\n\u001b[1;32m----> 1\u001b[1;33m \u001b[0mdataset2\u001b[0m\u001b[1;33m.\u001b[0m\u001b[0mshape\u001b[0m\u001b[1;33m\u001b[0m\u001b[0m\n\u001b[0m",
      "\u001b[1;31mAttributeError\u001b[0m: 'list' object has no attribute 'shape'"
     ]
    }
   ],
   "source": [
    "dataset2.shape"
   ]
  },
  {
   "cell_type": "code",
   "execution_count": 11,
   "metadata": {
    "collapsed": true
   },
   "outputs": [],
   "source": [
    "from keras.preprocessing.sequence import pad_sequences"
   ]
  },
  {
   "cell_type": "code",
   "execution_count": 14,
   "metadata": {},
   "outputs": [
    {
     "data": {
      "text/plain": [
       "(100, 9, 20)"
      ]
     },
     "execution_count": 14,
     "metadata": {},
     "output_type": "execute_result"
    }
   ],
   "source": [
    "pad_sequences(dataset2).shape"
   ]
  },
  {
   "cell_type": "code",
   "execution_count": null,
   "metadata": {
    "collapsed": true
   },
   "outputs": [],
   "source": [
    "Input()"
   ]
  }
 ],
 "metadata": {
  "kernelspec": {
   "display_name": "Python [conda root]",
   "language": "python",
   "name": "conda-root-py"
  },
  "language_info": {
   "codemirror_mode": {
    "name": "ipython",
    "version": 3
   },
   "file_extension": ".py",
   "mimetype": "text/x-python",
   "name": "python",
   "nbconvert_exporter": "python",
   "pygments_lexer": "ipython3",
   "version": "3.5.2"
  }
 },
 "nbformat": 4,
 "nbformat_minor": 1
}
