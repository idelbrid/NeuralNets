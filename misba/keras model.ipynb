{
 "cells": [
  {
   "cell_type": "code",
   "execution_count": 103,
   "metadata": {
    "collapsed": true
   },
   "outputs": [],
   "source": [
    "from keras.layers import Input, Activation, Dense, Conv1D, GlobalAveragePooling1D, GlobalMaxPooling1D, Masking, TimeDistributed\n",
    "from keras.models import Model\n",
    "from keras.losses import binary_crossentropy\n",
    "from keras.optimizers import SGD, Adam\n",
    "import keras"
   ]
  },
  {
   "cell_type": "code",
   "execution_count": 4,
   "metadata": {
    "collapsed": true
   },
   "outputs": [],
   "source": [
    "from sklearn.datasets import make_classification\n",
    "import numpy as np"
   ]
  },
  {
   "cell_type": "code",
   "execution_count": 45,
   "metadata": {
    "collapsed": true
   },
   "outputs": [],
   "source": [
    "def create_mil_dataset(bag_sizes, prob_inst_positive=None, random_state=123456, **make_classification_kwargs):\n",
    "    \"\"\"This is not going to be efficient\"\"\"\n",
    "    if prob_inst_positive is None:\n",
    "        prob_inst_positive = 1 - np.exp(np.log(0.5)/np.mean(bag_sizes))\n",
    "        \n",
    "    X, y= make_classification(n_samples=np.asarray(bag_sizes).sum()*3, random_state=random_state)\n",
    "    negative = X[y==0]\n",
    "    positive = X[y==1]\n",
    "    neg_pos = 0\n",
    "    pos_pos = 0\n",
    "    bags = []\n",
    "    labels = []\n",
    "    for i in range(len(bag_sizes)):\n",
    "        bagdata = []\n",
    "        baglabels = (np.random.uniform(size=bag_sizes[i]) > (1-prob_inst_positive)).astype(int)\n",
    "        for lab in baglabels:\n",
    "            if lab == 0:\n",
    "                bagdata.append(negative[neg_pos])\n",
    "                neg_pos += 1\n",
    "            else:\n",
    "                bagdata.append(positive[pos_pos])\n",
    "                pos_pos += 1\n",
    "        bagdata = np.array(bagdata)\n",
    "#         print(bagdata.shape)\n",
    "#         print(baglabels.shape)\n",
    "        bags.append(np.hstack([bagdata, baglabels.reshape(-1, 1)]))\n",
    "        labels.append(max(baglabels))\n",
    "    bags = np.array(bags)\n",
    "    labels = np.array(labels)\n",
    "    return bags,labels"
   ]
  },
  {
   "cell_type": "code",
   "execution_count": 46,
   "metadata": {
    "collapsed": true
   },
   "outputs": [
    {
     "data": {
      "text/plain": [
       "array([ array([[-0.31744079,  3.35742705,  1.51997029,  0.60017759, -0.49366211,\n",
       "         0.27422987, -0.92999096,  0.01487095, -0.48760159,  0.38039557,\n",
       "        -2.18293672,  0.89617065, -1.96978545,  0.08484421, -0.08224033,\n",
       "         0.43238977, -1.02951028,  0.39702147,  2.39678042, -1.23626892,\n",
       "         0.        ]]),\n",
       "       array([[ 0.44115327, -1.07135667, -1.34089625, -1.32886541,  1.84688341,\n",
       "         1.68270572, -1.74907225,  0.78183575,  0.22147063,  1.72968859,\n",
       "         0.75852711,  0.58378655,  0.09461058, -0.96498   , -0.74447138,\n",
       "        -0.8456957 ,  1.68408972, -1.15467063, -1.28278174,  2.35392486,\n",
       "         0.        ],\n",
       "       [-0.56085934, -0.75851402, -0.66804914,  0.31342068,  0.24250114,\n",
       "         0.12092999, -1.04110844, -1.6240619 , -1.68110141,  0.38793581,\n",
       "         0.60986195, -1.07067775,  1.07712214,  1.8150662 ,  0.40377646,\n",
       "         0.70519992,  1.97515803, -1.19816859, -0.9173684 , -0.58900454,\n",
       "         0.        ]]),\n",
       "       array([[ 0.40330952,  0.17644434, -0.34535219,  0.69057934,  1.31423238,\n",
       "         0.9957609 , -0.11462759,  0.68773839, -2.17986061,  1.46269605,\n",
       "        -0.95420784,  0.30162445, -0.73566162, -1.74316091, -1.36984936,\n",
       "        -0.82659092, -0.59655349,  0.2955964 , -0.73233937, -0.15495077,\n",
       "         0.        ],\n",
       "       [-0.73977634,  0.74408632, -0.74134265, -0.9228752 , -0.07967307,\n",
       "         0.30363782, -0.87073597,  0.9923118 ,  0.63958879,  0.10404981,\n",
       "         1.90668447, -0.17964175,  1.20207244,  0.17406769,  1.58501403,\n",
       "        -0.43946096,  1.93896255, -1.15283939,  0.38805436, -1.05487432,\n",
       "         0.        ],\n",
       "       [-0.25506942,  0.18473498,  0.62555464,  0.24969795, -0.05926791,\n",
       "         1.10394893, -2.1883451 ,  0.03621956,  0.29463311, -0.68559748,\n",
       "         0.84697374,  1.28839346,  0.60630771,  0.60909891, -1.1657872 ,\n",
       "        -0.30396116,  2.57199805, -1.6888522 ,  0.26213581, -0.27101967,\n",
       "         0.        ]]),\n",
       "       array([[-2.41731194,  0.56363651, -1.15064062, -0.5576966 , -0.79833414,\n",
       "         0.38135311, -0.11259151, -1.2568604 ,  1.12965899, -0.21750304,\n",
       "        -0.44564485,  0.04129319,  1.89877782, -1.42036061,  0.08692636,\n",
       "        -0.01560077,  1.9119556 , -1.02153506,  1.14786216,  0.97282687,\n",
       "         0.        ],\n",
       "       [ 0.90180528,  0.22844046,  0.38431617,  1.58893092,  1.57415934,\n",
       "         0.47672034, -0.52386465,  0.88878179, -1.19707145, -0.85844701,\n",
       "        -0.30342106,  0.52026007, -1.99858036,  0.30699631, -1.06696902,\n",
       "        -0.0286652 , -1.42705321,  0.66854703, -1.71769319,  1.17121643,\n",
       "         0.        ],\n",
       "       [ 1.4505203 ,  2.41017871, -1.04808927, -0.98838692, -0.02574745,\n",
       "         0.09405516, -0.25382697, -0.02368847, -2.21358753,  0.29936761,\n",
       "         1.26614295, -0.25190477, -1.81223563, -0.863838  ,  1.06332728,\n",
       "         0.40820401, -1.49557099,  0.7462482 ,  0.1328852 ,  0.20605344,\n",
       "         0.        ],\n",
       "       [-0.05575781,  0.08242318,  1.12620268,  1.47407147, -0.97734923,\n",
       "        -0.06403443,  0.55354368,  1.28999704,  0.36937427, -0.28146131,\n",
       "        -2.4844778 , -0.48968216, -1.86513329,  0.03071115, -0.03457058,\n",
       "         0.10912068, -2.28173672,  1.28386039,  1.26273051,  0.53658005,\n",
       "         0.        ]])], dtype=object)"
      ]
     },
     "execution_count": 46,
     "metadata": {},
     "output_type": "execute_result"
    }
   ],
   "source": [
    "dataset, labels = create_mil_dataset(np.array([1,2,3,4]))\n",
    "dataset"
   ]
  },
  {
   "cell_type": "code",
   "execution_count": 47,
   "metadata": {
    "collapsed": false
   },
   "outputs": [
    {
     "data": {
      "text/plain": [
       "0.46999999999999997"
      ]
     },
     "execution_count": 47,
     "metadata": {},
     "output_type": "execute_result"
    }
   ],
   "source": [
    "np.mean(create_mil_dataset(np.array([6]*200))[1])  # balancing of classes is working"
   ]
  },
  {
   "cell_type": "code",
   "execution_count": 49,
   "metadata": {
    "collapsed": true
   },
   "outputs": [
    {
     "data": {
      "text/plain": [
       "array([1, 0, 1, 1, 0, 1, 1, 0, 1, 0, 1, 0, 0, 0, 0, 1, 1, 1, 0, 0, 0, 1, 1,\n",
       "       0, 0, 1, 1, 0, 0, 1, 0, 0, 1, 1, 0, 1, 0, 1, 1, 1, 0, 0, 0, 0, 0, 0,\n",
       "       1, 0, 0, 1, 0, 0, 1, 0, 0, 0, 0, 1, 0, 0, 0, 0, 1, 1, 0, 0, 0, 1, 1,\n",
       "       1, 1, 0, 1, 1, 0, 0, 0, 0, 1, 0, 0, 1, 1, 1, 0, 1, 1, 1, 0, 0, 0, 0,\n",
       "       0, 1, 1, 1, 0, 1, 1, 0, 0, 0, 0, 1, 0, 0, 0, 0, 1, 1, 1, 0, 0, 0, 0,\n",
       "       1, 0, 0, 0, 0, 1, 1, 1, 0, 1, 1, 0, 0, 1, 1, 1, 0, 0, 1, 0, 0, 0, 0,\n",
       "       1, 0, 0, 1, 0, 1, 0, 1, 1, 0, 0, 1, 1, 1, 1, 0, 1, 1, 1, 1, 0, 0, 0,\n",
       "       0, 1, 1, 0, 1, 1, 0, 0, 1, 1, 1, 0, 1, 1, 0, 1, 1, 1, 1, 1, 0, 0, 0,\n",
       "       0, 0, 0, 0, 0, 1, 0, 1, 1, 0, 0, 0, 0, 0, 0, 1])"
      ]
     },
     "execution_count": 49,
     "metadata": {},
     "output_type": "execute_result"
    }
   ],
   "source": [
    "dataset, labels = create_mil_dataset(np.random.randint(5, 20, size=200))\n",
    "labels"
   ]
  },
  {
   "cell_type": "code",
   "execution_count": 62,
   "metadata": {
    "collapsed": true
   },
   "outputs": [],
   "source": [
    "def extract_sil_dataset(mil_dataset):\n",
    "    sil_dataset = None\n",
    "    for bag in dataset:\n",
    "        if sil_dataset is None:\n",
    "            sil_dataset = bag\n",
    "        sil_dataset = np.vstack([sil_dataset, bag])\n",
    "    return sil_dataset[:, :-1], sil_dataset[:, -1]"
   ]
  },
  {
   "cell_type": "code",
   "execution_count": 63,
   "metadata": {
    "collapsed": false
   },
   "outputs": [
    {
     "data": {
      "text/plain": [
       "(2497, 20)"
      ]
     },
     "execution_count": 63,
     "metadata": {},
     "output_type": "execute_result"
    }
   ],
   "source": [
    "X_sil, Y_sil = extract_sil_dataset(dataset)\n",
    "X_sil.shape"
   ]
  },
  {
   "cell_type": "code",
   "execution_count": 50,
   "metadata": {
    "collapsed": true
   },
   "outputs": [],
   "source": [
    "nfeats = dataset[0][0].shape[0] - 1"
   ]
  },
  {
   "cell_type": "code",
   "execution_count": 104,
   "metadata": {
    "collapsed": false
   },
   "outputs": [
    {
     "ename": "TypeError",
     "evalue": "Layer global_average_pooling1d_4 does not support masking, but was passed an input_mask: Tensor(\"masking_2/Any_1:0\", shape=(?, ?), dtype=bool)",
     "output_type": "error",
     "traceback": [
      "\u001b[1;31m---------------------------------------------------------------------------\u001b[0m",
      "\u001b[1;31mTypeError\u001b[0m                                 Traceback (most recent call last)",
      "\u001b[1;32m<ipython-input-104-162602fc25a1>\u001b[0m in \u001b[0;36m<module>\u001b[1;34m()\u001b[0m\n\u001b[0;32m      3\u001b[0m \u001b[0mlayer2\u001b[0m \u001b[1;33m=\u001b[0m \u001b[0mTimeDistributed\u001b[0m\u001b[1;33m(\u001b[0m\u001b[0mDense\u001b[0m\u001b[1;33m(\u001b[0m\u001b[1;36m10\u001b[0m\u001b[1;33m,\u001b[0m \u001b[0mactivation\u001b[0m\u001b[1;33m=\u001b[0m\u001b[1;34m'relu'\u001b[0m\u001b[1;33m)\u001b[0m\u001b[1;33m)\u001b[0m\u001b[1;33m(\u001b[0m\u001b[0mmasked_input\u001b[0m\u001b[1;33m)\u001b[0m\u001b[1;33m\u001b[0m\u001b[0m\n\u001b[0;32m      4\u001b[0m \u001b[0mlayer3\u001b[0m \u001b[1;33m=\u001b[0m \u001b[0mTimeDistributed\u001b[0m\u001b[1;33m(\u001b[0m\u001b[0mDense\u001b[0m\u001b[1;33m(\u001b[0m\u001b[1;36m1\u001b[0m\u001b[1;33m,\u001b[0m \u001b[0mactivation\u001b[0m\u001b[1;33m=\u001b[0m\u001b[1;34m'relu'\u001b[0m\u001b[1;33m)\u001b[0m\u001b[1;33m)\u001b[0m\u001b[1;33m(\u001b[0m\u001b[0mlayer2\u001b[0m\u001b[1;33m)\u001b[0m\u001b[1;33m\u001b[0m\u001b[0m\n\u001b[1;32m----> 5\u001b[1;33m \u001b[0mlayer4\u001b[0m \u001b[1;33m=\u001b[0m \u001b[0mGlobalAveragePooling1D\u001b[0m\u001b[1;33m(\u001b[0m\u001b[1;33m)\u001b[0m\u001b[1;33m(\u001b[0m\u001b[0mlayer3\u001b[0m\u001b[1;33m)\u001b[0m\u001b[1;33m\u001b[0m\u001b[0m\n\u001b[0m\u001b[0;32m      6\u001b[0m \u001b[0mlayer5\u001b[0m \u001b[1;33m=\u001b[0m \u001b[0mActivation\u001b[0m\u001b[1;33m(\u001b[0m\u001b[1;34m'sigmoid'\u001b[0m\u001b[1;33m)\u001b[0m\u001b[1;33m(\u001b[0m\u001b[0mlayer4\u001b[0m\u001b[1;33m)\u001b[0m\u001b[1;33m\u001b[0m\u001b[0m\n\u001b[0;32m      7\u001b[0m \u001b[0mmodel\u001b[0m \u001b[1;33m=\u001b[0m \u001b[0mModel\u001b[0m\u001b[1;33m(\u001b[0m\u001b[1;33m[\u001b[0m\u001b[0minlayer\u001b[0m\u001b[1;33m]\u001b[0m\u001b[1;33m,\u001b[0m \u001b[1;33m[\u001b[0m\u001b[0mlayer5\u001b[0m\u001b[1;33m]\u001b[0m\u001b[1;33m)\u001b[0m\u001b[1;33m\u001b[0m\u001b[0m\n",
      "\u001b[1;32mC:\\Users\\Ian\\Anaconda3\\lib\\site-packages\\keras\\engine\\topology.py\u001b[0m in \u001b[0;36m__call__\u001b[1;34m(self, inputs, **kwargs)\u001b[0m\n\u001b[0;32m    595\u001b[0m             \u001b[1;31m# Actually call the layer, collecting output(s), mask(s), and shape(s).\u001b[0m\u001b[1;33m\u001b[0m\u001b[1;33m\u001b[0m\u001b[0m\n\u001b[0;32m    596\u001b[0m             \u001b[0moutput\u001b[0m \u001b[1;33m=\u001b[0m \u001b[0mself\u001b[0m\u001b[1;33m.\u001b[0m\u001b[0mcall\u001b[0m\u001b[1;33m(\u001b[0m\u001b[0minputs\u001b[0m\u001b[1;33m,\u001b[0m \u001b[1;33m**\u001b[0m\u001b[0mkwargs\u001b[0m\u001b[1;33m)\u001b[0m\u001b[1;33m\u001b[0m\u001b[0m\n\u001b[1;32m--> 597\u001b[1;33m             \u001b[0moutput_mask\u001b[0m \u001b[1;33m=\u001b[0m \u001b[0mself\u001b[0m\u001b[1;33m.\u001b[0m\u001b[0mcompute_mask\u001b[0m\u001b[1;33m(\u001b[0m\u001b[0minputs\u001b[0m\u001b[1;33m,\u001b[0m \u001b[0mprevious_mask\u001b[0m\u001b[1;33m)\u001b[0m\u001b[1;33m\u001b[0m\u001b[0m\n\u001b[0m\u001b[0;32m    598\u001b[0m \u001b[1;33m\u001b[0m\u001b[0m\n\u001b[0;32m    599\u001b[0m             \u001b[1;31m# If the layer returns tensors from its inputs, unmodified,\u001b[0m\u001b[1;33m\u001b[0m\u001b[1;33m\u001b[0m\u001b[0m\n",
      "\u001b[1;32mC:\\Users\\Ian\\Anaconda3\\lib\\site-packages\\keras\\engine\\topology.py\u001b[0m in \u001b[0;36mcompute_mask\u001b[1;34m(self, inputs, mask)\u001b[0m\n\u001b[0;32m    742\u001b[0m                                     \u001b[1;34m' does not support masking, '\u001b[0m\u001b[1;33m\u001b[0m\u001b[0m\n\u001b[0;32m    743\u001b[0m                                     \u001b[1;34m'but was passed an input_mask: '\u001b[0m \u001b[1;33m+\u001b[0m\u001b[1;33m\u001b[0m\u001b[0m\n\u001b[1;32m--> 744\u001b[1;33m                                     str(mask))\n\u001b[0m\u001b[0;32m    745\u001b[0m             \u001b[1;31m# masking not explicitly supported: return None as mask\u001b[0m\u001b[1;33m\u001b[0m\u001b[1;33m\u001b[0m\u001b[0m\n\u001b[0;32m    746\u001b[0m             \u001b[1;32mreturn\u001b[0m \u001b[1;32mNone\u001b[0m\u001b[1;33m\u001b[0m\u001b[0m\n",
      "\u001b[1;31mTypeError\u001b[0m: Layer global_average_pooling1d_4 does not support masking, but was passed an input_mask: Tensor(\"masking_2/Any_1:0\", shape=(?, ?), dtype=bool)"
     ]
    }
   ],
   "source": [
    "inlayer = Input([None, nfeats])\n",
    "masked_input = Masking()(inlayer)\n",
    "layer2 = TimeDistributed(Dense(10, activation='relu'))(masked_input)\n",
    "layer3 = TimeDistributed(Dense(1, activation='relu'))(layer2)\n",
    "layer4 = GlobalAveragePooling1D()(layer3)\n",
    "layer5 = Activation('sigmoid')(layer4)\n",
    "model = Model([inlayer], [layer5])"
   ]
  },
  {
   "cell_type": "code",
   "execution_count": 87,
   "metadata": {
    "collapsed": false
   },
   "outputs": [
    {
     "data": {
      "text/plain": [
       "array([[ 0.53886724]], dtype=float32)"
      ]
     },
     "execution_count": 87,
     "metadata": {},
     "output_type": "execute_result"
    }
   ],
   "source": [
    "model.predict(np.array([dataset[0][:,:-1]]))"
   ]
  },
  {
   "cell_type": "code",
   "execution_count": 88,
   "metadata": {
    "collapsed": false
   },
   "outputs": [],
   "source": [
    "model.compile('sgd', 'binary_crossentropy', metrics=['accuracy'])"
   ]
  },
  {
   "cell_type": "code",
   "execution_count": 89,
   "metadata": {
    "collapsed": false
   },
   "outputs": [
    {
     "data": {
      "text/plain": [
       "(200,)"
      ]
     },
     "execution_count": 89,
     "metadata": {},
     "output_type": "execute_result"
    }
   ],
   "source": [
    "np.array([d[:, :-1] for d in dataset]).shape"
   ]
  },
  {
   "cell_type": "code",
   "execution_count": 82,
   "metadata": {
    "collapsed": true
   },
   "outputs": [],
   "source": [
    "size2bags = {k: [bag for bag in dataset if len(bag) == k] for k in range(5, 21)}"
   ]
  },
  {
   "cell_type": "code",
   "execution_count": null,
   "metadata": {
    "collapsed": true
   },
   "outputs": [],
   "source": []
  },
  {
   "cell_type": "code",
   "execution_count": 79,
   "metadata": {
    "collapsed": true
   },
   "outputs": [
    {
     "ename": "ValueError",
     "evalue": "Error when checking input: expected input_3 to have 3 dimensions, but got array with shape (200, 1)",
     "output_type": "error",
     "traceback": [
      "\u001b[1;31m---------------------------------------------------------------------------\u001b[0m",
      "\u001b[1;31mValueError\u001b[0m                                Traceback (most recent call last)",
      "\u001b[1;32m<ipython-input-79-632f9c8e6b67>\u001b[0m in \u001b[0;36m<module>\u001b[1;34m()\u001b[0m\n\u001b[1;32m----> 1\u001b[1;33m \u001b[0mmodel\u001b[0m\u001b[1;33m.\u001b[0m\u001b[0mfit\u001b[0m\u001b[1;33m(\u001b[0m\u001b[0mnp\u001b[0m\u001b[1;33m.\u001b[0m\u001b[0marray\u001b[0m\u001b[1;33m(\u001b[0m\u001b[1;33m[\u001b[0m\u001b[0md\u001b[0m\u001b[1;33m[\u001b[0m\u001b[1;33m:\u001b[0m\u001b[1;33m,\u001b[0m \u001b[1;33m:\u001b[0m\u001b[1;33m-\u001b[0m\u001b[1;36m1\u001b[0m\u001b[1;33m]\u001b[0m \u001b[1;32mfor\u001b[0m \u001b[0md\u001b[0m \u001b[1;32min\u001b[0m \u001b[0mdataset\u001b[0m\u001b[1;33m]\u001b[0m\u001b[1;33m)\u001b[0m\u001b[1;33m,\u001b[0m \u001b[0mlabels\u001b[0m\u001b[1;33m)\u001b[0m\u001b[1;33m\u001b[0m\u001b[0m\n\u001b[0m",
      "\u001b[1;32mC:\\Users\\Ian\\Anaconda3\\lib\\site-packages\\keras\\engine\\training.py\u001b[0m in \u001b[0;36mfit\u001b[1;34m(self, x, y, batch_size, epochs, verbose, callbacks, validation_split, validation_data, shuffle, class_weight, sample_weight, initial_epoch, **kwargs)\u001b[0m\n\u001b[0;32m   1356\u001b[0m             \u001b[0mclass_weight\u001b[0m\u001b[1;33m=\u001b[0m\u001b[0mclass_weight\u001b[0m\u001b[1;33m,\u001b[0m\u001b[1;33m\u001b[0m\u001b[0m\n\u001b[0;32m   1357\u001b[0m             \u001b[0mcheck_batch_axis\u001b[0m\u001b[1;33m=\u001b[0m\u001b[1;32mFalse\u001b[0m\u001b[1;33m,\u001b[0m\u001b[1;33m\u001b[0m\u001b[0m\n\u001b[1;32m-> 1358\u001b[1;33m             batch_size=batch_size)\n\u001b[0m\u001b[0;32m   1359\u001b[0m         \u001b[1;31m# Prepare validation data.\u001b[0m\u001b[1;33m\u001b[0m\u001b[1;33m\u001b[0m\u001b[0m\n\u001b[0;32m   1360\u001b[0m         \u001b[1;32mif\u001b[0m \u001b[0mvalidation_data\u001b[0m\u001b[1;33m:\u001b[0m\u001b[1;33m\u001b[0m\u001b[0m\n",
      "\u001b[1;32mC:\\Users\\Ian\\Anaconda3\\lib\\site-packages\\keras\\engine\\training.py\u001b[0m in \u001b[0;36m_standardize_user_data\u001b[1;34m(self, x, y, sample_weight, class_weight, check_batch_axis, batch_size)\u001b[0m\n\u001b[0;32m   1232\u001b[0m                                     \u001b[0mself\u001b[0m\u001b[1;33m.\u001b[0m\u001b[0m_feed_input_shapes\u001b[0m\u001b[1;33m,\u001b[0m\u001b[1;33m\u001b[0m\u001b[0m\n\u001b[0;32m   1233\u001b[0m                                     \u001b[0mcheck_batch_axis\u001b[0m\u001b[1;33m=\u001b[0m\u001b[1;32mFalse\u001b[0m\u001b[1;33m,\u001b[0m\u001b[1;33m\u001b[0m\u001b[0m\n\u001b[1;32m-> 1234\u001b[1;33m                                     exception_prefix='input')\n\u001b[0m\u001b[0;32m   1235\u001b[0m         y = _standardize_input_data(y, self._feed_output_names,\n\u001b[0;32m   1236\u001b[0m                                     \u001b[0moutput_shapes\u001b[0m\u001b[1;33m,\u001b[0m\u001b[1;33m\u001b[0m\u001b[0m\n",
      "\u001b[1;32mC:\\Users\\Ian\\Anaconda3\\lib\\site-packages\\keras\\engine\\training.py\u001b[0m in \u001b[0;36m_standardize_input_data\u001b[1;34m(data, names, shapes, check_batch_axis, exception_prefix)\u001b[0m\n\u001b[0;32m    126\u001b[0m                                  \u001b[1;34m' to have '\u001b[0m \u001b[1;33m+\u001b[0m \u001b[0mstr\u001b[0m\u001b[1;33m(\u001b[0m\u001b[0mlen\u001b[0m\u001b[1;33m(\u001b[0m\u001b[0mshapes\u001b[0m\u001b[1;33m[\u001b[0m\u001b[0mi\u001b[0m\u001b[1;33m]\u001b[0m\u001b[1;33m)\u001b[0m\u001b[1;33m)\u001b[0m \u001b[1;33m+\u001b[0m\u001b[1;33m\u001b[0m\u001b[0m\n\u001b[0;32m    127\u001b[0m                                  \u001b[1;34m' dimensions, but got array with shape '\u001b[0m \u001b[1;33m+\u001b[0m\u001b[1;33m\u001b[0m\u001b[0m\n\u001b[1;32m--> 128\u001b[1;33m                                  str(array.shape))\n\u001b[0m\u001b[0;32m    129\u001b[0m             \u001b[1;32mfor\u001b[0m \u001b[0mj\u001b[0m\u001b[1;33m,\u001b[0m \u001b[1;33m(\u001b[0m\u001b[0mdim\u001b[0m\u001b[1;33m,\u001b[0m \u001b[0mref_dim\u001b[0m\u001b[1;33m)\u001b[0m \u001b[1;32min\u001b[0m \u001b[0menumerate\u001b[0m\u001b[1;33m(\u001b[0m\u001b[0mzip\u001b[0m\u001b[1;33m(\u001b[0m\u001b[0marray\u001b[0m\u001b[1;33m.\u001b[0m\u001b[0mshape\u001b[0m\u001b[1;33m,\u001b[0m \u001b[0mshapes\u001b[0m\u001b[1;33m[\u001b[0m\u001b[0mi\u001b[0m\u001b[1;33m]\u001b[0m\u001b[1;33m)\u001b[0m\u001b[1;33m)\u001b[0m\u001b[1;33m:\u001b[0m\u001b[1;33m\u001b[0m\u001b[0m\n\u001b[0;32m    130\u001b[0m                 \u001b[1;32mif\u001b[0m \u001b[1;32mnot\u001b[0m \u001b[0mj\u001b[0m \u001b[1;32mand\u001b[0m \u001b[1;32mnot\u001b[0m \u001b[0mcheck_batch_axis\u001b[0m\u001b[1;33m:\u001b[0m\u001b[1;33m\u001b[0m\u001b[0m\n",
      "\u001b[1;31mValueError\u001b[0m: Error when checking input: expected input_3 to have 3 dimensions, but got array with shape (200, 1)"
     ]
    }
   ],
   "source": [
    "batchsize = 20\n",
    "for model.fit(np.array([d[:, :-1] for d in dataset]), labels)"
   ]
  },
  {
   "cell_type": "code",
   "execution_count": 94,
   "metadata": {
    "collapsed": false
   },
   "outputs": [
    {
     "data": {
      "text/plain": [
       "array([ 3.01881551,  3.05552074,  3.64355299,  3.6477442 ,  3.52298785,\n",
       "        3.60181064,  3.3930971 ,  3.60523094,  3.137509  ,  4.27051298,\n",
       "        3.09873802,  3.60147595,  3.18147832,  3.57764453,  4.10825088,\n",
       "        3.55248442,  3.10293039,  3.04243421,  5.44919258,  3.38162514])"
      ]
     },
     "execution_count": 94,
     "metadata": {},
     "output_type": "execute_result"
    }
   ],
   "source": [
    "np.max(X_sil, axis=0)"
   ]
  },
  {
   "cell_type": "code",
   "execution_count": 95,
   "metadata": {
    "collapsed": false
   },
   "outputs": [
    {
     "data": {
      "text/plain": [
       "array([-3.28418358, -4.71442206, -3.87594178, -3.59609428, -3.28798966,\n",
       "       -3.76107614, -3.52572937, -3.68092065, -3.37180263, -4.33056449,\n",
       "       -3.26702823, -3.91428866, -3.09552008, -3.86244063, -3.81579132,\n",
       "       -2.92441762, -4.20076804, -4.07828847, -1.95134692, -3.38761966])"
      ]
     },
     "execution_count": 95,
     "metadata": {},
     "output_type": "execute_result"
    }
   ],
   "source": [
    "np.min(X_sil, axis=0)"
   ]
  },
  {
   "cell_type": "code",
   "execution_count": 98,
   "metadata": {
    "collapsed": false
   },
   "outputs": [],
   "source": [
    "X = keras.preprocessing.sequence.pad_sequences([d[:, :-1] for d in dataset], dtype='float32', value=0)"
   ]
  },
  {
   "cell_type": "code",
   "execution_count": 99,
   "metadata": {
    "collapsed": true
   },
   "outputs": [
    {
     "data": {
      "text/plain": [
       "array([[[ 0.        ,  0.        ,  0.        , ...,  0.        ,\n",
       "          0.        ,  0.        ],\n",
       "        [ 0.        ,  0.        ,  0.        , ...,  0.        ,\n",
       "          0.        ,  0.        ],\n",
       "        [ 1.32641292,  1.04845202, -2.30484843, ..., -0.04771969,\n",
       "         -1.19255769, -0.77209359],\n",
       "        ..., \n",
       "        [ 1.02215028,  1.60033703, -0.10369639, ...,  0.36812752,\n",
       "         -0.98323721,  0.54205555],\n",
       "        [-0.41213149, -0.57176757,  1.1794343 , ...,  0.15750039,\n",
       "         -0.58093196,  0.27885589],\n",
       "        [-0.91263419, -1.75275707, -0.14167933, ..., -0.9121604 ,\n",
       "         -0.04578342,  0.58567148]],\n",
       "\n",
       "       [[ 0.        ,  0.        ,  0.        , ...,  0.        ,\n",
       "          0.        ,  0.        ],\n",
       "        [ 0.        ,  0.        ,  0.        , ...,  0.        ,\n",
       "          0.        ,  0.        ],\n",
       "        [ 0.        ,  0.        ,  0.        , ...,  0.        ,\n",
       "          0.        ,  0.        ],\n",
       "        ..., \n",
       "        [-0.49138495, -1.60011649, -1.5429343 , ...,  0.49331009,\n",
       "          0.74667692,  0.0240587 ],\n",
       "        [ 0.46313369, -0.96191287,  0.51277727, ..., -1.53896034,\n",
       "          0.44135609,  1.84430897],\n",
       "        [ 0.20171434, -1.54831564,  0.39499995, ...,  0.66548216,\n",
       "          0.20160297, -1.21672964]],\n",
       "\n",
       "       [[-0.83559293, -1.15008605, -0.05215676, ..., -0.61994225,\n",
       "          0.07887897,  1.99345815],\n",
       "        [ 0.29975984,  0.33598655,  0.51866174, ...,  1.21728361,\n",
       "         -1.34215891, -0.08656517],\n",
       "        [ 0.37100285, -0.99219072,  2.94179153, ...,  0.43072075,\n",
       "          0.07572227, -0.17648487],\n",
       "        ..., \n",
       "        [-1.76665843,  0.39612252,  0.00721301, ..., -0.7865057 ,\n",
       "         -1.45507407,  0.60223472],\n",
       "        [ 0.18430594, -0.63688785,  0.46085569, ...,  2.29183364,\n",
       "          0.04548946,  0.36238271],\n",
       "        [-0.11320064,  0.12913238, -0.98537993, ...,  1.43190026,\n",
       "         -1.52557814, -0.03348554]],\n",
       "\n",
       "       ..., \n",
       "       [[ 0.        ,  0.        ,  0.        , ...,  0.        ,\n",
       "          0.        ,  0.        ],\n",
       "        [ 0.        ,  0.        ,  0.        , ...,  0.        ,\n",
       "          0.        ,  0.        ],\n",
       "        [ 0.        ,  0.        ,  0.        , ...,  0.        ,\n",
       "          0.        ,  0.        ],\n",
       "        ..., \n",
       "        [ 0.61835259,  1.02108479,  0.00295748, ..., -0.6396808 ,\n",
       "         -1.11897635,  0.65575331],\n",
       "        [-0.36756945, -0.25362796,  0.07108054, ...,  0.946711  ,\n",
       "         -1.46397531,  1.0290463 ],\n",
       "        [-0.54430985,  0.86539918,  0.70021421, ...,  0.76907718,\n",
       "         -1.31073213,  0.54167831]],\n",
       "\n",
       "       [[ 0.        ,  0.        ,  0.        , ...,  0.        ,\n",
       "          0.        ,  0.        ],\n",
       "        [ 0.        ,  0.        ,  0.        , ...,  0.        ,\n",
       "          0.        ,  0.        ],\n",
       "        [ 0.        ,  0.        ,  0.        , ...,  0.        ,\n",
       "          0.        ,  0.        ],\n",
       "        ..., \n",
       "        [ 0.69624627, -1.0849334 ,  0.33956891, ..., -0.6303249 ,\n",
       "          0.3253797 ,  0.65224814],\n",
       "        [ 0.75300205, -0.63596499, -0.0877085 , ..., -0.92037171,\n",
       "         -0.01730135, -1.96971214],\n",
       "        [ 0.36707798,  1.42040348, -0.74042296, ...,  1.85336423,\n",
       "         -1.16555059,  0.06909584]],\n",
       "\n",
       "       [[ 0.        ,  0.        ,  0.        , ...,  0.        ,\n",
       "          0.        ,  0.        ],\n",
       "        [ 0.        ,  0.        ,  0.        , ...,  0.        ,\n",
       "          0.        ,  0.        ],\n",
       "        [ 0.        ,  0.        ,  0.        , ...,  0.        ,\n",
       "          0.        ,  0.        ],\n",
       "        ..., \n",
       "        [ 0.0993392 ,  0.56883574,  2.16318512, ..., -0.42224076,\n",
       "         -1.44745421,  0.04494418],\n",
       "        [ 0.80401325,  0.53777051,  0.12494516, ..., -0.93082613,\n",
       "         -1.24811959,  0.90488833],\n",
       "        [-2.21977997,  1.01437891, -0.18635166, ..., -1.4386363 ,\n",
       "         -1.19990957,  1.75007272]]], dtype=float32)"
      ]
     },
     "execution_count": 99,
     "metadata": {},
     "output_type": "execute_result"
    }
   ],
   "source": [
    "X"
   ]
  },
  {
   "cell_type": "markdown",
   "metadata": {},
   "source": [
    "model.fit(X, labels, batch_size=32, "
   ]
  }
 ],
 "metadata": {
  "kernelspec": {
   "display_name": "Python 3",
   "language": "python",
   "name": "python3"
  },
  "language_info": {
   "codemirror_mode": {
    "name": "ipython",
    "version": 3
   },
   "file_extension": ".py",
   "mimetype": "text/x-python",
   "name": "python",
   "nbconvert_exporter": "python",
   "pygments_lexer": "ipython3",
   "version": "3.5.2"
  }
 },
 "nbformat": 4,
 "nbformat_minor": 0
}
