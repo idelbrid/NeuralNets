{
 "cells": [
  {
   "cell_type": "code",
   "execution_count": 1,
   "metadata": {
    "collapsed": true,
    "deletable": true,
    "editable": true
   },
   "outputs": [],
   "source": [
    "import tensorflow as tf\n",
    "import matplotlib.pyplot as plt\n",
    "import numpy as np\n",
    "# import pandas as pd\n",
    "from scipy.io import loadmat, savemat\n",
    "from scipy.stats import binom"
   ]
  },
  {
   "cell_type": "markdown",
   "metadata": {
    "deletable": true,
    "editable": true
   },
   "source": [
    "# Running the classification form of the model free of classes\n",
    "In this notebook, we construct the model purely as a classifier with no pretraining. We have ample data to do this synthetically, so we can show the validity of the model. \n",
    "\n",
    "Again, we're assuming something about the data. Namely, there are \n",
    " * $K$ kinds of instances, each with $N_k$ instances.\n",
    " * Each kind will have $M_k$ features\n",
    " * There is an assumed latent binary label for each instance, $Y_{k, n}$.\n",
    " * The label of the total bag will be $0$ if and only if all $Y_{k, n} = 0$\n",
    " \n",
    "Note that the model complexity is very small, but capable of managing the multiple-instance structure of the data which gives the data so many raw features. If we have hidden layers of size $h$, there are only $$h \\sum_0^{K-1}{(M_k+N_k)}$$ parameters. This is due to the convolutional first layer, which replaces a dense first layer having $$h \\sum_0^{K-1}{(M_k \\cdot N_k)}$$ parameters. The reduction in parameters is intentional in order to reduce overfitting especially when there are very few training examples.\n",
    "\n",
    "The second formulation of the model even further reduces the number of parameters while retaining the ability to correcly classify all of the examples by weighting all baskets the same. We assume $h=1$ and introduce a learned scaling parameter that scales the sum of the submodels to make a consensus. Thus, we have $$\\sum_0^{K-1}{M_k}$$ parameters. This reduction in parameters not only protects against overfitting, but also reduces the complexity of training - the fewer parameters, the easier it is to train, generally."
   ]
  },
  {
   "cell_type": "code",
   "execution_count": 45,
   "metadata": {
    "collapsed": true,
    "deletable": true,
    "editable": true
   },
   "outputs": [],
   "source": [
    "K = 2\n",
    "M = [30, 35]\n",
    "N = [10, 15]\n",
    "batch_size = 10\n",
    "hidden_layer_size = 1"
   ]
  },
  {
   "cell_type": "code",
   "execution_count": 46,
   "metadata": {
    "collapsed": true,
    "deletable": true,
    "editable": true
   },
   "outputs": [],
   "source": [
    "def accuracy(y_true, y_pred):\n",
    "    return 1 - ((np.round(y_pred) - y_true)**2).sum() / len(y_true)"
   ]
  },
  {
   "cell_type": "code",
   "execution_count": 47,
   "metadata": {
    "collapsed": false,
    "deletable": true,
    "editable": true
   },
   "outputs": [],
   "source": [
    "from sklearn.metrics import roc_auc_score"
   ]
  },
  {
   "cell_type": "code",
   "execution_count": 48,
   "metadata": {
    "collapsed": false,
    "deletable": true,
    "editable": true
   },
   "outputs": [],
   "source": [
    "synth_data = loadmat('./synth_dataset.mat')\n",
    "synth_data\n",
    "\n",
    "trainX = synth_data['train_X']\n",
    "trainY = np.ravel(synth_data['train_Y'])\n",
    "\n",
    "testX = synth_data['test_X'].reshape(-1, sum(m*n for m, n in zip(M, N)), 1)\n",
    "testY = np.ravel(synth_data['test_Y']).reshape(-1, 1)\n",
    "\n",
    "\n",
    "shuffle_idx = np.random.permutation(np.arange(len(trainX)))\n",
    "trainX = trainX[shuffle_idx]\n",
    "trainY = trainY[shuffle_idx]\n",
    "validX = trainX[:len(trainX)//4].reshape(-1, sum(m*n for m, n in zip(M, N)), 1)\n",
    "validY = trainY[:len(trainY)//4].reshape(-1, 1)\n",
    "trainX = trainX[len(trainX)//4:].reshape(-1, sum(m*n for m, n in zip(M, N)), 1)\n",
    "trainY = trainY[len(trainY)//4:].reshape(-1, 1)"
   ]
  },
  {
   "cell_type": "code",
   "execution_count": 49,
   "metadata": {
    "collapsed": true,
    "deletable": true,
    "editable": true
   },
   "outputs": [
    {
     "data": {
      "text/plain": [
       "array([False,  True, False, False, False, False,  True, False, False,\n",
       "       False,  True, False, False, False, False, False,  True, False,\n",
       "        True,  True, False,  True, False,  True,  True,  True, False,\n",
       "        True, False,  True,  True,  True,  True, False, False, False,\n",
       "        True, False,  True,  True,  True, False, False,  True, False,\n",
       "       False, False,  True,  True, False,  True,  True,  True,  True,\n",
       "       False, False,  True, False,  True,  True,  True, False, False,\n",
       "       False, False, False,  True,  True,  True, False,  True, False,\n",
       "        True, False,  True, False, False, False, False,  True, False,\n",
       "       False,  True, False, False, False,  True,  True, False, False,\n",
       "        True, False, False, False,  True,  True, False,  True,  True,\n",
       "       False,  True,  True,  True,  True,  True,  True, False,  True,\n",
       "       False, False,  True, False, False,  True, False, False, False,\n",
       "        True,  True, False,  True,  True, False,  True,  True, False,\n",
       "        True,  True, False,  True, False,  True, False, False, False,\n",
       "        True,  True, False, False,  True, False,  True, False,  True,\n",
       "        True, False,  True,  True, False,  True, False, False,  True,\n",
       "       False, False, False,  True, False,  True,  True, False, False,\n",
       "        True,  True,  True, False, False,  True,  True, False,  True,\n",
       "        True, False,  True,  True,  True, False,  True, False, False,\n",
       "        True,  True,  True, False,  True, False, False,  True, False,\n",
       "        True,  True, False,  True,  True, False, False,  True, False,\n",
       "        True,  True,  True, False,  True,  True,  True,  True,  True,\n",
       "       False, False,  True, False,  True,  True,  True,  True, False,\n",
       "        True,  True, False, False,  True, False, False, False, False,\n",
       "        True,  True, False, False,  True,  True,  True,  True,  True,\n",
       "        True,  True,  True,  True,  True,  True, False, False,  True,\n",
       "        True,  True,  True, False, False, False, False], dtype=bool)"
      ]
     },
     "execution_count": 49,
     "metadata": {},
     "output_type": "execute_result"
    }
   ],
   "source": [
    "np.ravel(testYFull.max(axis=1)) == np.ravel(testY)"
   ]
  },
  {
   "cell_type": "code",
   "execution_count": 50,
   "metadata": {
    "collapsed": false,
    "deletable": true,
    "editable": true,
    "scrolled": false
   },
   "outputs": [
    {
     "data": {
      "text/plain": [
       "(563, 825, 1)"
      ]
     },
     "execution_count": 50,
     "metadata": {},
     "output_type": "execute_result"
    }
   ],
   "source": [
    "trainX.shape"
   ]
  },
  {
   "cell_type": "code",
   "execution_count": 51,
   "metadata": {
    "collapsed": false,
    "deletable": true,
    "editable": true
   },
   "outputs": [],
   "source": [
    "for k in range(K):\n",
    "    idx = sum(N[_k]*M[_k] for _k in range(0, k))\n",
    "    next_idx = N[k]*M[k] + idx\n",
    "    trainX[:, idx:next_idx].reshape((len(trainX), N[k], M[k])).mean(axis=(0, 1))\n",
    "    q1 = np.percentile(trainX[:, idx:next_idx].reshape((len(trainX), N[k], M[k])), 25, axis=(0, 1))\n",
    "    q3 = np.percentile(trainX[:, idx:next_idx].reshape((len(trainX), N[k], M[k])), 75, axis=(0, 1))\n",
    "    q2 = np.percentile(trainX[:, idx:next_idx].reshape((len(trainX), N[k], M[k])), 50, axis=(0, 1))\n",
    "    trainX[:, idx:next_idx] = ((trainX[:, idx:next_idx].reshape((len(trainX), N[k], M[k])) - q3) / (q3 - q1)).reshape((len(trainX), -1, 1))\n",
    "    validX[:, idx:next_idx] = ((validX[:, idx:next_idx].reshape((len(validX), N[k], M[k])) - q3) / (q3 - q1)).reshape((len(validX), -1, 1))\n",
    "    testX[:, idx:next_idx] = ((testX[:, idx:next_idx].reshape((len(testX), N[k], M[k])) - q3) / (q3 - q1)).reshape((len(testX), -1, 1))"
   ]
  },
  {
   "cell_type": "code",
   "execution_count": 52,
   "metadata": {
    "collapsed": false,
    "deletable": true,
    "editable": true,
    "scrolled": false
   },
   "outputs": [],
   "source": [
    "graph = tf.Graph()\n",
    "with graph.as_default():\n",
    "    tf_train_dataset = tf.placeholder(tf.float32, shape=(batch_size, sum(m*n for m,n in zip(M, N)), 1))\n",
    "    tf_train_labels = tf.placeholder(tf.float32, shape=(batch_size, 1))\n",
    "    tf_valid_dataset = tf.constant(validX, tf.float32)\n",
    "    tf_valid_labels = tf.constant(validY.reshape(-1,1), tf.float32)\n",
    "    tf_test_dataset = tf.constant(testX, tf.float32)\n",
    "    \n",
    "    layer0_weights = []\n",
    "    layer0_biases = []\n",
    "    for k in range(K):\n",
    "        kind_weights = tf.Variable(tf.truncated_normal([M[k], 1, hidden_layer_size], stddev=0.1))\n",
    "        layer0_weights.append(kind_weights)\n",
    "        \n",
    "        kind_biases = tf.Variable(tf.zeros([hidden_layer_size]))\n",
    "        layer0_biases.append(kind_biases)\n",
    "        \n",
    "    layer1_weights = tf.Variable(tf.truncated_normal([sum(N[k]*hidden_layer_size for k in range(K)), 1], stddev=0.1)) \n",
    "    layer1_biases = tf.Variable(tf.zeros([1]))\n",
    "    \n",
    "    def model(data):\n",
    "        hidden_list = []\n",
    "        for k in range(K):\n",
    "            idx = sum(N[_k]*M[_k] for _k in range(0, k))\n",
    "            next_idx = N[k]*M[k] + idx\n",
    "            kind_conv = tf.nn.conv1d(data[:, idx:next_idx], layer0_weights[k], M[k], padding='VALID')\n",
    "            kind_hidden = tf.nn.relu(kind_conv + layer0_biases[k])\n",
    "            hidden_list.append(kind_hidden)\n",
    "\n",
    "        hidden = tf.reshape(tf.concat(hidden_list, 1), (-1, sum(N[k]*hidden_layer_size for k in range(K))))\n",
    "        logits = tf.matmul( hidden, layer1_weights) + layer1_biases\n",
    "        return logits\n",
    "    \n",
    "    logits = model(tf_train_dataset)\n",
    "    loss = tf.reduce_mean(tf.nn.sigmoid_cross_entropy_with_logits(logits=logits, labels=tf_train_labels))    \n",
    "    optimizer = tf.train.MomentumOptimizer(0.1, 0.7).minimize(loss)\n",
    "    \n",
    "    train_prediction = tf.nn.sigmoid(logits)\n",
    "    valid_prediction = tf.nn.sigmoid(model(tf_valid_dataset))\n",
    "    test_prediction = tf.nn.sigmoid(model(tf_test_dataset))\n",
    "    \n",
    "    train_accuracy = 1 - tf.reduce_mean(tf.square((tf.round(train_prediction) - tf_train_labels)))\n",
    "    valid_accuracy = 1 - tf.reduce_mean(tf.square((tf.round(valid_prediction) - tf_valid_labels)))\n",
    "#     test_accuracy = tf.reduce_sum(tf.square((tf.round(test_prediction) - tf)))    \n"
   ]
  },
  {
   "cell_type": "code",
   "execution_count": 53,
   "metadata": {
    "collapsed": false,
    "deletable": true,
    "editable": true,
    "scrolled": true
   },
   "outputs": [
    {
     "name": "stdout",
     "output_type": "stream",
     "text": [
      "Minibatch loss at step 0: 0.695005\n",
      "Minibatch accuracy: 40.0%\n",
      "Validation accuracy: 49.2%\n",
      "Minibatch loss at step 200: 0.615917\n",
      "Minibatch accuracy: 70.0%\n",
      "Validation accuracy: 74.9%\n",
      "Minibatch loss at step 400: 0.100412\n",
      "Minibatch accuracy: 100.0%\n",
      "Validation accuracy: 91.4%\n",
      "Minibatch loss at step 600: 0.085719\n",
      "Minibatch accuracy: 100.0%\n",
      "Validation accuracy: 97.3%\n",
      "Minibatch loss at step 800: 0.116186\n",
      "Minibatch accuracy: 100.0%\n",
      "Validation accuracy: 98.9%\n",
      "Minibatch loss at step 1000: 0.024227\n",
      "Minibatch accuracy: 100.0%\n",
      "Validation accuracy: 100.0%\n",
      "Minibatch loss at step 1200: 0.030283\n",
      "Minibatch accuracy: 100.0%\n",
      "Validation accuracy: 100.0%\n",
      "Minibatch loss at step 1400: 0.008113\n",
      "Minibatch accuracy: 100.0%\n",
      "Validation accuracy: 100.0%\n",
      "Minibatch loss at step 1600: 0.013108\n",
      "Minibatch accuracy: 100.0%\n",
      "Validation accuracy: 100.0%\n",
      "Minibatch loss at step 1800: 0.016367\n",
      "Minibatch accuracy: 100.0%\n",
      "Validation accuracy: 100.0%\n",
      "Minibatch loss at step 2000: 0.005482\n",
      "Minibatch accuracy: 100.0%\n",
      "Validation accuracy: 100.0%\n",
      "Minibatch loss at step 2200: 0.007370\n",
      "Minibatch accuracy: 100.0%\n",
      "Validation accuracy: 100.0%\n",
      "Minibatch loss at step 2400: 0.007745\n",
      "Minibatch accuracy: 100.0%\n",
      "Validation accuracy: 100.0%\n",
      "Minibatch loss at step 2600: 0.006658\n",
      "Minibatch accuracy: 100.0%\n",
      "Validation accuracy: 100.0%\n",
      "Minibatch loss at step 2800: 0.007640\n",
      "Minibatch accuracy: 100.0%\n",
      "Validation accuracy: 100.0%\n",
      "Minibatch loss at step 3000: 0.004064\n",
      "Minibatch accuracy: 100.0%\n",
      "Validation accuracy: 100.0%\n",
      "Minibatch loss at step 3200: 0.004422\n",
      "Minibatch accuracy: 100.0%\n",
      "Validation accuracy: 100.0%\n",
      "Minibatch loss at step 3400: 0.002090\n",
      "Minibatch accuracy: 100.0%\n",
      "Validation accuracy: 100.0%\n",
      "Minibatch loss at step 3600: 0.002965\n",
      "Minibatch accuracy: 100.0%\n",
      "Validation accuracy: 100.0%\n",
      "Minibatch loss at step 3800: 0.002890\n",
      "Minibatch accuracy: 100.0%\n",
      "Validation accuracy: 100.0%\n",
      "Minibatch loss at step 4000: 0.002109\n",
      "Minibatch accuracy: 100.0%\n",
      "Validation accuracy: 100.0%\n",
      "Minibatch loss at step 4200: 0.003488\n",
      "Minibatch accuracy: 100.0%\n",
      "Validation accuracy: 100.0%\n",
      "Minibatch loss at step 4400: 0.004782\n",
      "Minibatch accuracy: 100.0%\n",
      "Validation accuracy: 100.0%\n",
      "Minibatch loss at step 4600: 0.001634\n",
      "Minibatch accuracy: 100.0%\n",
      "Validation accuracy: 100.0%\n",
      "Minibatch loss at step 4800: 0.002003\n",
      "Minibatch accuracy: 100.0%\n",
      "Validation accuracy: 100.0%\n",
      "Minibatch loss at step 5000: 0.002652\n",
      "Minibatch accuracy: 100.0%\n",
      "Validation accuracy: 100.0%\n",
      "Minibatch loss at step 5200: 0.002270\n",
      "Minibatch accuracy: 100.0%\n",
      "Validation accuracy: 100.0%\n",
      "Minibatch loss at step 5400: 0.004538\n",
      "Minibatch accuracy: 100.0%\n",
      "Validation accuracy: 100.0%\n",
      "Minibatch loss at step 5600: 0.001751\n",
      "Minibatch accuracy: 100.0%\n",
      "Validation accuracy: 100.0%\n",
      "Minibatch loss at step 5800: 0.005202\n",
      "Minibatch accuracy: 100.0%\n",
      "Validation accuracy: 100.0%\n",
      "Minibatch loss at step 6000: 0.000871\n",
      "Minibatch accuracy: 100.0%\n",
      "Validation accuracy: 100.0%\n",
      "Minibatch loss at step 6200: 0.001125\n",
      "Minibatch accuracy: 100.0%\n",
      "Validation accuracy: 100.0%\n",
      "Minibatch loss at step 6400: 0.003874\n",
      "Minibatch accuracy: 100.0%\n",
      "Validation accuracy: 100.0%\n",
      "Minibatch loss at step 6600: 0.001292\n",
      "Minibatch accuracy: 100.0%\n",
      "Validation accuracy: 100.0%\n",
      "Minibatch loss at step 6800: 0.000817\n",
      "Minibatch accuracy: 100.0%\n",
      "Validation accuracy: 100.0%\n",
      "Minibatch loss at step 7000: 0.000849\n",
      "Minibatch accuracy: 100.0%\n",
      "Validation accuracy: 100.0%\n",
      "Minibatch loss at step 7200: 0.001501\n",
      "Minibatch accuracy: 100.0%\n",
      "Validation accuracy: 100.0%\n",
      "Minibatch loss at step 7400: 0.000935\n",
      "Minibatch accuracy: 100.0%\n",
      "Validation accuracy: 100.0%\n",
      "Minibatch loss at step 7600: 0.002051\n",
      "Minibatch accuracy: 100.0%\n",
      "Validation accuracy: 100.0%\n",
      "Minibatch loss at step 7800: 0.001624\n",
      "Minibatch accuracy: 100.0%\n",
      "Validation accuracy: 100.0%\n",
      "Minibatch loss at step 8000: 0.000761\n",
      "Minibatch accuracy: 100.0%\n",
      "Validation accuracy: 100.0%\n",
      "Minibatch loss at step 8200: 0.001436\n",
      "Minibatch accuracy: 100.0%\n",
      "Validation accuracy: 100.0%\n",
      "Minibatch loss at step 8400: 0.001256\n",
      "Minibatch accuracy: 100.0%\n",
      "Validation accuracy: 100.0%\n",
      "Minibatch loss at step 8600: 0.001945\n",
      "Minibatch accuracy: 100.0%\n",
      "Validation accuracy: 100.0%\n",
      "Minibatch loss at step 8800: 0.000597\n",
      "Minibatch accuracy: 100.0%\n",
      "Validation accuracy: 100.0%\n",
      "Minibatch loss at step 9000: 0.000556\n",
      "Minibatch accuracy: 100.0%\n",
      "Validation accuracy: 100.0%\n",
      "Minibatch loss at step 9200: 0.001669\n",
      "Minibatch accuracy: 100.0%\n",
      "Validation accuracy: 100.0%\n",
      "Minibatch loss at step 9400: 0.001986\n",
      "Minibatch accuracy: 100.0%\n",
      "Validation accuracy: 100.0%\n",
      "Minibatch loss at step 9600: 0.000497\n",
      "Minibatch accuracy: 100.0%\n",
      "Validation accuracy: 100.0%\n",
      "Minibatch loss at step 9800: 0.001058\n",
      "Minibatch accuracy: 100.0%\n",
      "Validation accuracy: 100.0%\n",
      "Minibatch loss at step 10000: 0.000743\n",
      "Minibatch accuracy: 100.0%\n",
      "Validation accuracy: 100.0%\n",
      "Test accuracy: 99.6%\n",
      "Test ROC AUC: 100.0%\n"
     ]
    }
   ],
   "source": [
    "num_steps = 10001\n",
    "with tf.Session(graph=graph) as session:\n",
    "    tf.global_variables_initializer().run()\n",
    "    for step in range(num_steps):\n",
    "        offset = (step * batch_size) % (trainY.shape[0] - batch_size)\n",
    "        batch_data = trainX[offset:(offset+batch_size)]\n",
    "        batch_labels = trainY[offset:(offset+batch_size)]\n",
    "        feed_dict = {tf_train_dataset: batch_data, \n",
    "                     tf_train_labels: batch_labels}\n",
    "        _, l, batch_pred = session.run([optimizer, loss, train_prediction], feed_dict=feed_dict)\n",
    "        \n",
    "        if step % 200 == 0:\n",
    "            print('Minibatch loss at step %d: %f' % (step, l))\n",
    "            print('Minibatch accuracy: %.1f%%' % (accuracy(batch_labels, batch_pred)*100))\n",
    "            print('Validation accuracy: %.1f%%' % (valid_accuracy.eval()*100))\n",
    "    print('Test accuracy: %.1f%%' % (accuracy(testY,test_prediction.eval())*100))       \n",
    "    print('Test ROC AUC: %.1f%%' % (roc_auc_score(testY, test_prediction.eval())*100))"
   ]
  },
  {
   "cell_type": "markdown",
   "metadata": {
    "collapsed": true,
    "deletable": true,
    "editable": true
   },
   "source": [
    "# This time there are no weights deciding which submodel to use. It's just a consensus"
   ]
  },
  {
   "cell_type": "code",
   "execution_count": 54,
   "metadata": {
    "collapsed": false,
    "deletable": true,
    "editable": true,
    "scrolled": false
   },
   "outputs": [],
   "source": [
    "graph = tf.Graph()\n",
    "with graph.as_default():\n",
    "    tf_train_dataset = tf.placeholder(tf.float32, shape=(batch_size, sum(m*n for m,n in zip(M, N)), 1))\n",
    "    tf_train_labels = tf.placeholder(tf.float32, shape=(batch_size, 1))\n",
    "    tf_valid_dataset = tf.constant(validX, tf.float32)\n",
    "    tf_valid_labels = tf.constant(validY.reshape(-1,1), tf.float32)\n",
    "    tf_test_dataset = tf.constant(testX, tf.float32)\n",
    "    \n",
    "    layer0_weights = []\n",
    "    layer0_biases = []\n",
    "    for k in range(K):\n",
    "        kind_weights = tf.Variable(tf.truncated_normal([M[k], 1, hidden_layer_size], stddev=0.1))\n",
    "        layer0_weights.append(kind_weights)\n",
    "        \n",
    "        kind_biases = tf.Variable(tf.zeros([hidden_layer_size]))\n",
    "        layer0_biases.append(kind_biases)\n",
    "        \n",
    "    layer1_weights = tf.constant(np.ones((sum(N[_k] for _k in range(0, K)), 1)), dtype=tf.float32)\n",
    "    normalizer = tf.Variable(1.0, dtype=tf.float32)\n",
    "    layer1_biases = tf.Variable(tf.zeros([1]))\n",
    "    \n",
    "    def model(data):\n",
    "        hidden_list = []\n",
    "        for k in range(K):\n",
    "            idx = sum(N[_k]*M[_k] for _k in range(0, k))\n",
    "            next_idx = N[k]*M[k] + idx\n",
    "            kind_conv = tf.nn.conv1d(data[:, idx:next_idx], layer0_weights[k], M[k], padding='VALID')\n",
    "            kind_hidden = tf.nn.sigmoid(kind_conv + layer0_biases[k])\n",
    "            hidden_list.append(kind_hidden)\n",
    "    \n",
    "        hidden = tf.reshape(tf.concat(hidden_list, 1), (-1, sum(N[k]*hidden_layer_size for k in range(K))))\n",
    "        logits = tf.matmul( hidden, layer1_weights)*normalizer + layer1_biases\n",
    "        return logits\n",
    "    \n",
    "    logits = model(tf_train_dataset)\n",
    "    loss = tf.reduce_mean(tf.nn.sigmoid_cross_entropy_with_logits(logits=logits, labels=tf_train_labels))\n",
    "#            tf.nn.l2_loss(layer0_weights[0])*0.1 + tf.nn.l2_loss(layer0_weights[1])*0.1\n",
    "    optimizer = tf.train.MomentumOptimizer(0.1, 0.7).minimize(loss)\n",
    "    \n",
    "    train_prediction = tf.nn.sigmoid(logits)\n",
    "    valid_prediction = tf.nn.sigmoid(model(tf_valid_dataset))\n",
    "    test_prediction = tf.nn.sigmoid(model(tf_test_dataset))\n",
    "    \n",
    "    train_accuracy = 1 - tf.reduce_mean(tf.square((tf.round(train_prediction) - tf_train_labels)))\n",
    "    valid_accuracy = 1 - tf.reduce_mean(tf.square((tf.round(valid_prediction) - tf_valid_labels)))\n",
    "#     test_accuracy = tf.reduce_sum(tf.square((tf.round(test_prediction) - tf)))    \n"
   ]
  },
  {
   "cell_type": "code",
   "execution_count": 55,
   "metadata": {
    "collapsed": true,
    "deletable": true,
    "editable": true
   },
   "outputs": [
    {
     "name": "stdout",
     "output_type": "stream",
     "text": [
      "Minibatch loss at step 0: 7.135017\n",
      "Minibatch accuracy: 40.0%\n",
      "Validation accuracy: 55.1%\n",
      "Minibatch loss at step 200: 0.931169\n",
      "Minibatch accuracy: 50.0%\n",
      "Validation accuracy: 65.2%\n",
      "Minibatch loss at step 400: 0.639737\n",
      "Minibatch accuracy: 70.0%\n",
      "Validation accuracy: 77.5%\n",
      "Minibatch loss at step 600: 0.165660\n",
      "Minibatch accuracy: 100.0%\n",
      "Validation accuracy: 96.3%\n",
      "Minibatch loss at step 800: 0.193759\n",
      "Minibatch accuracy: 100.0%\n",
      "Validation accuracy: 100.0%\n",
      "Minibatch loss at step 1000: 0.053783\n",
      "Minibatch accuracy: 100.0%\n",
      "Validation accuracy: 100.0%\n",
      "Minibatch loss at step 1200: 0.035740\n",
      "Minibatch accuracy: 100.0%\n",
      "Validation accuracy: 100.0%\n",
      "Minibatch loss at step 1400: 0.017797\n",
      "Minibatch accuracy: 100.0%\n",
      "Validation accuracy: 100.0%\n",
      "Minibatch loss at step 1600: 0.020802\n",
      "Minibatch accuracy: 100.0%\n",
      "Validation accuracy: 100.0%\n",
      "Minibatch loss at step 1800: 0.020199\n",
      "Minibatch accuracy: 100.0%\n",
      "Validation accuracy: 100.0%\n",
      "Minibatch loss at step 2000: 0.009804\n",
      "Minibatch accuracy: 100.0%\n",
      "Validation accuracy: 100.0%\n",
      "Minibatch loss at step 2200: 0.013518\n",
      "Minibatch accuracy: 100.0%\n",
      "Validation accuracy: 100.0%\n",
      "Minibatch loss at step 2400: 0.011211\n",
      "Minibatch accuracy: 100.0%\n",
      "Validation accuracy: 100.0%\n",
      "Minibatch loss at step 2600: 0.012323\n",
      "Minibatch accuracy: 100.0%\n",
      "Validation accuracy: 100.0%\n",
      "Minibatch loss at step 2800: 0.011646\n",
      "Minibatch accuracy: 100.0%\n",
      "Validation accuracy: 100.0%\n",
      "Minibatch loss at step 3000: 0.005573\n",
      "Minibatch accuracy: 100.0%\n",
      "Validation accuracy: 100.0%\n",
      "Minibatch loss at step 3200: 0.007332\n",
      "Minibatch accuracy: 100.0%\n",
      "Validation accuracy: 100.0%\n",
      "Minibatch loss at step 3400: 0.004488\n",
      "Minibatch accuracy: 100.0%\n",
      "Validation accuracy: 100.0%\n",
      "Minibatch loss at step 3600: 0.006952\n",
      "Minibatch accuracy: 100.0%\n",
      "Validation accuracy: 100.0%\n",
      "Minibatch loss at step 3800: 0.005061\n",
      "Minibatch accuracy: 100.0%\n",
      "Validation accuracy: 100.0%\n",
      "Minibatch loss at step 4000: 0.003865\n",
      "Minibatch accuracy: 100.0%\n",
      "Validation accuracy: 100.0%\n",
      "Minibatch loss at step 4200: 0.003563\n",
      "Minibatch accuracy: 100.0%\n",
      "Validation accuracy: 100.0%\n",
      "Minibatch loss at step 4400: 0.006917\n",
      "Minibatch accuracy: 100.0%\n",
      "Validation accuracy: 100.0%\n",
      "Minibatch loss at step 4600: 0.002343\n",
      "Minibatch accuracy: 100.0%\n",
      "Validation accuracy: 100.0%\n",
      "Minibatch loss at step 4800: 0.003569\n",
      "Minibatch accuracy: 100.0%\n",
      "Validation accuracy: 100.0%\n",
      "Minibatch loss at step 5000: 0.005388\n",
      "Minibatch accuracy: 100.0%\n",
      "Validation accuracy: 100.0%\n",
      "Minibatch loss at step 5200: 0.004932\n",
      "Minibatch accuracy: 100.0%\n",
      "Validation accuracy: 100.0%\n",
      "Minibatch loss at step 5400: 0.006302\n",
      "Minibatch accuracy: 100.0%\n",
      "Validation accuracy: 100.0%\n",
      "Minibatch loss at step 5600: 0.004044\n",
      "Minibatch accuracy: 100.0%\n",
      "Validation accuracy: 100.0%\n",
      "Minibatch loss at step 5800: 0.006326\n",
      "Minibatch accuracy: 100.0%\n",
      "Validation accuracy: 100.0%\n",
      "Minibatch loss at step 6000: 0.002087\n",
      "Minibatch accuracy: 100.0%\n",
      "Validation accuracy: 100.0%\n",
      "Minibatch loss at step 6200: 0.001745\n",
      "Minibatch accuracy: 100.0%\n",
      "Validation accuracy: 100.0%\n",
      "Minibatch loss at step 6400: 0.004884\n",
      "Minibatch accuracy: 100.0%\n",
      "Validation accuracy: 100.0%\n",
      "Minibatch loss at step 6600: 0.002236\n",
      "Minibatch accuracy: 100.0%\n",
      "Validation accuracy: 100.0%\n",
      "Minibatch loss at step 6800: 0.001840\n",
      "Minibatch accuracy: 100.0%\n",
      "Validation accuracy: 100.0%\n",
      "Minibatch loss at step 7000: 0.002246\n",
      "Minibatch accuracy: 100.0%\n",
      "Validation accuracy: 100.0%\n",
      "Minibatch loss at step 7200: 0.002411\n",
      "Minibatch accuracy: 100.0%\n",
      "Validation accuracy: 100.0%\n",
      "Minibatch loss at step 7400: 0.001935\n",
      "Minibatch accuracy: 100.0%\n",
      "Validation accuracy: 100.0%\n",
      "Minibatch loss at step 7600: 0.002567\n",
      "Minibatch accuracy: 100.0%\n",
      "Validation accuracy: 100.0%\n",
      "Minibatch loss at step 7800: 0.003341\n",
      "Minibatch accuracy: 100.0%\n",
      "Validation accuracy: 100.0%\n",
      "Minibatch loss at step 8000: 0.002108\n",
      "Minibatch accuracy: 100.0%\n",
      "Validation accuracy: 100.0%\n",
      "Minibatch loss at step 8200: 0.002725\n",
      "Minibatch accuracy: 100.0%\n",
      "Validation accuracy: 100.0%\n",
      "Minibatch loss at step 8400: 0.002668\n",
      "Minibatch accuracy: 100.0%\n",
      "Validation accuracy: 100.0%\n",
      "Minibatch loss at step 8600: 0.003681\n",
      "Minibatch accuracy: 100.0%\n",
      "Validation accuracy: 100.0%\n",
      "Minibatch loss at step 8800: 0.001644\n",
      "Minibatch accuracy: 100.0%\n",
      "Validation accuracy: 100.0%\n",
      "Minibatch loss at step 9000: 0.000810\n",
      "Minibatch accuracy: 100.0%\n",
      "Validation accuracy: 100.0%\n",
      "Minibatch loss at step 9200: 0.002322\n",
      "Minibatch accuracy: 100.0%\n",
      "Validation accuracy: 100.0%\n",
      "Minibatch loss at step 9400: 0.002018\n",
      "Minibatch accuracy: 100.0%\n",
      "Validation accuracy: 100.0%\n",
      "Minibatch loss at step 9600: 0.001225\n",
      "Minibatch accuracy: 100.0%\n",
      "Validation accuracy: 100.0%\n",
      "Minibatch loss at step 9800: 0.001871\n",
      "Minibatch accuracy: 100.0%\n",
      "Validation accuracy: 100.0%\n",
      "Minibatch loss at step 10000: 0.001795\n",
      "Minibatch accuracy: 100.0%\n",
      "Validation accuracy: 100.0%\n",
      "Test accuracy: 99.6%\n",
      "Test ROC AUC: 100.0%\n"
     ]
    }
   ],
   "source": [
    "num_steps = 10001\n",
    "with tf.Session(graph=graph) as session:\n",
    "    tf.global_variables_initializer().run()\n",
    "    for step in range(num_steps):\n",
    "        offset = (step * batch_size) % (trainY.shape[0] - batch_size)\n",
    "        batch_data = trainX[offset:(offset+batch_size)]\n",
    "        batch_labels = trainY[offset:(offset+batch_size)]\n",
    "        feed_dict = {tf_train_dataset: batch_data, \n",
    "                     tf_train_labels: batch_labels}\n",
    "        _, l, batch_pred = session.run([optimizer, loss, train_prediction], feed_dict=feed_dict)\n",
    "#         print('normalizer ', normalizer.eval())\n",
    "        \n",
    "\n",
    "        if step % 200 == 0:\n",
    "            print('Minibatch loss at step %d: %f' % (step, l))\n",
    "            print('Minibatch accuracy: %.1f%%' % (accuracy(batch_labels, batch_pred)*100))\n",
    "            print('Validation accuracy: %.1f%%' % (valid_accuracy.eval()*100))\n",
    "#             print('bias ', layer1_biases.eval())\n",
    "#             print(np.ravel(layer0_weights[0].eval()))\n",
    "#             print(np.ravel(layer0_weights[1].eval()))\n",
    "\n",
    "    print('Test accuracy: %.1f%%' % (accuracy(testY,test_prediction.eval())*100))       \n",
    "    print('Test ROC AUC: %.1f%%' % (roc_auc_score(testY, test_prediction.eval())*100))"
   ]
  },
  {
   "cell_type": "markdown",
   "metadata": {},
   "source": [
    "# Testing for sensitivity to amount of training data"
   ]
  },
  {
   "cell_type": "code",
   "execution_count": 79,
   "metadata": {
    "collapsed": true,
    "deletable": true,
    "editable": true
   },
   "outputs": [
    {
     "name": "stdout",
     "output_type": "stream",
     "text": [
      "563\n",
      "Test accuracy: 99.6%\n",
      "Test ROC AUC: 100.0%\n",
      "525\n",
      "Test accuracy: 99.6%\n",
      "Test ROC AUC: 100.0%\n",
      "500\n",
      "Test accuracy: 99.6%\n",
      "Test ROC AUC: 100.0%\n",
      "475\n",
      "Test accuracy: 99.6%\n",
      "Test ROC AUC: 100.0%\n",
      "450\n",
      "Test accuracy: 99.6%\n",
      "Test ROC AUC: 100.0%\n",
      "425\n",
      "Test accuracy: 99.6%\n",
      "Test ROC AUC: 100.0%\n",
      "400\n",
      "Test accuracy: 99.6%\n",
      "Test ROC AUC: 100.0%\n",
      "375\n",
      "Test accuracy: 99.6%\n",
      "Test ROC AUC: 100.0%\n",
      "350\n",
      "Test accuracy: 99.2%\n",
      "Test ROC AUC: 100.0%\n",
      "325\n",
      "Test accuracy: 99.6%\n",
      "Test ROC AUC: 100.0%\n",
      "300\n",
      "Test accuracy: 99.6%\n",
      "Test ROC AUC: 100.0%\n",
      "275\n",
      "Test accuracy: 98.8%\n",
      "Test ROC AUC: 100.0%\n",
      "250\n",
      "Test accuracy: 99.2%\n",
      "Test ROC AUC: 100.0%\n",
      "225\n",
      "Test accuracy: 98.4%\n",
      "Test ROC AUC: 99.9%\n",
      "200\n",
      "Test accuracy: 99.6%\n",
      "Test ROC AUC: 100.0%\n",
      "175\n",
      "Test accuracy: 98.8%\n",
      "Test ROC AUC: 100.0%\n",
      "150\n",
      "Test accuracy: 99.2%\n",
      "Test ROC AUC: 100.0%\n",
      "125\n",
      "Test accuracy: 98.8%\n",
      "Test ROC AUC: 99.9%\n",
      "100\n",
      "Test accuracy: 98.0%\n",
      "Test ROC AUC: 100.0%\n",
      "75\n",
      "Test accuracy: 95.6%\n",
      "Test ROC AUC: 98.5%\n",
      "50\n",
      "Test accuracy: 80.4%\n",
      "Test ROC AUC: 88.1%\n",
      "25\n",
      "Test accuracy: 69.2%\n",
      "Test ROC AUC: 77.4%\n"
     ]
    }
   ],
   "source": [
    "sizes = []\n",
    "test_accuracies = []\n",
    "for size in [563]+list(range(525, 0, -25)):\n",
    "    print(size)\n",
    "    idx = np.random.choice(np.arange(563), replace=False, size=[size])\n",
    "    trainXSmaller = trainX[idx]\n",
    "    trainYSmaller = trainY[idx]\n",
    "    num_steps = 10001\n",
    "    with tf.Session(graph=graph) as session:\n",
    "        tf.global_variables_initializer().run()\n",
    "        for step in range(num_steps):\n",
    "            offset = (step * batch_size) % (trainYSmaller.shape[0] - batch_size)\n",
    "            batch_data = trainXSmaller[offset:(offset+batch_size)]\n",
    "            batch_labels = trainYSmaller[offset:(offset+batch_size)]\n",
    "            feed_dict = {tf_train_dataset: batch_data, \n",
    "                         tf_train_labels: batch_labels}\n",
    "            _, l, batch_pred = session.run([optimizer, loss, train_prediction], feed_dict=feed_dict)\n",
    "    #         print('normalizer ', normalizer.eval())\n",
    "\n",
    "\n",
    "            if step % 200 == 0:\n",
    "                pass\n",
    "#                 print('Minibatch loss at step %d: %f' % (step, l))\n",
    "#                 print('Minibatch accuracy: %.1f%%' % (accuracy(batch_labels, batch_pred)*100))\n",
    "#                 print('Validation accuracy: %.1f%%' % (valid_accuracy.eval()*100))\n",
    "    #             print('bias ', layer1_biases.eval())\n",
    "    #             print(np.ravel(layer0_weights[0].eval()))\n",
    "    #             print(np.ravel(layer0_weights[1].eval()))\n",
    "\n",
    "        print('Test accuracy: %.1f%%' % (accuracy(testY,test_prediction.eval())*100))       \n",
    "        print('Test ROC AUC: %.1f%%' % (roc_auc_score(testY, test_prediction.eval())*100))\n",
    "        sizes.append(size)\n",
    "        test_accuracies.append(accuracy(testY,test_prediction.eval())*100)"
   ]
  },
  {
   "cell_type": "code",
   "execution_count": 81,
   "metadata": {
    "collapsed": false,
    "deletable": true,
    "editable": true,
    "scrolled": false
   },
   "outputs": [
    {
     "data": {
      "image/png": "[encoded data removed]",
      "text/plain": [
       "<matplotlib.figure.Figure at 0x7fce2c2d66d8>"
      ]
     },
     "metadata": {},
     "output_type": "display_data"
    }
   ],
   "source": [
    "%matplotlib inline\n",
    "plt.scatter(sizes, test_accuracies)\n",
    "plt.title('Accuracy VS Training set size')\n",
    "plt.ylabel('Test Set Accuracy (%)')\n",
    "plt.xlabel('Training Set Size')\n",
    "plt.show()"
   ]
  },
  {
   "cell_type": "code",
   "execution_count": 86,
   "metadata": {
    "collapsed": false
   },
   "outputs": [
    {
     "data": {
      "text/plain": [
       "TensorShape([Dimension(30), Dimension(1), Dimension(1)])"
      ]
     },
     "execution_count": 86,
     "metadata": {},
     "output_type": "execute_result"
    }
   ],
   "source": [
    "layer0_weights[0].get_shape()"
   ]
  },
  {
   "cell_type": "code",
   "execution_count": 87,
   "metadata": {
    "collapsed": false,
    "deletable": true,
    "editable": true,
    "scrolled": false
   },
   "outputs": [
    {
     "data": {
      "text/plain": [
       "TensorShape([Dimension(35), Dimension(1), Dimension(1)])"
      ]
     },
     "execution_count": 87,
     "metadata": {},
     "output_type": "execute_result"
    }
   ],
   "source": [
    "layer0_weights[1].get_shape()"
   ]
  },
  {
   "cell_type": "markdown",
   "metadata": {},
   "source": [
    "### Redefining the first model..."
   ]
  },
  {
   "cell_type": "code",
   "execution_count": 89,
   "metadata": {
    "collapsed": false,
    "deletable": true,
    "editable": true,
    "scrolled": false
   },
   "outputs": [],
   "source": [
    "graph = tf.Graph()\n",
    "with graph.as_default():\n",
    "    tf_train_dataset = tf.placeholder(tf.float32, shape=(batch_size, sum(m*n for m,n in zip(M, N)), 1))\n",
    "    tf_train_labels = tf.placeholder(tf.float32, shape=(batch_size, 1))\n",
    "    tf_valid_dataset = tf.constant(validX, tf.float32)\n",
    "    tf_valid_labels = tf.constant(validY.reshape(-1,1), tf.float32)\n",
    "    tf_test_dataset = tf.constant(testX, tf.float32)\n",
    "    \n",
    "    layer0_weights = []\n",
    "    layer0_biases = []\n",
    "    for k in range(K):\n",
    "        kind_weights = tf.Variable(tf.truncated_normal([M[k], 1, hidden_layer_size], stddev=0.1))\n",
    "        layer0_weights.append(kind_weights)\n",
    "        \n",
    "        kind_biases = tf.Variable(tf.zeros([hidden_layer_size]))\n",
    "        layer0_biases.append(kind_biases)\n",
    "        \n",
    "    layer1_weights = tf.Variable(tf.truncated_normal([sum(N[k]*hidden_layer_size for k in range(K)), 1], stddev=0.1)) \n",
    "    layer1_biases = tf.Variable(tf.zeros([1]))\n",
    "    \n",
    "    def model(data):\n",
    "        hidden_list = []\n",
    "        for k in range(K):\n",
    "            idx = sum(N[_k]*M[_k] for _k in range(0, k))\n",
    "            next_idx = N[k]*M[k] + idx\n",
    "            kind_conv = tf.nn.conv1d(data[:, idx:next_idx], layer0_weights[k], M[k], padding='VALID')\n",
    "            kind_hidden = tf.nn.relu(kind_conv + layer0_biases[k])\n",
    "            hidden_list.append(kind_hidden)\n",
    "\n",
    "        hidden = tf.reshape(tf.concat(hidden_list, 1), (-1, sum(N[k]*hidden_layer_size for k in range(K))))\n",
    "        logits = tf.matmul( hidden, layer1_weights) + layer1_biases\n",
    "        return logits\n",
    "    \n",
    "    logits = model(tf_train_dataset)\n",
    "    loss = tf.reduce_mean(tf.nn.sigmoid_cross_entropy_with_logits(logits=logits, labels=tf_train_labels))    \n",
    "    optimizer = tf.train.MomentumOptimizer(0.1, 0.7).minimize(loss)\n",
    "    \n",
    "    train_prediction = tf.nn.sigmoid(logits)\n",
    "    valid_prediction = tf.nn.sigmoid(model(tf_valid_dataset))\n",
    "    test_prediction = tf.nn.sigmoid(model(tf_test_dataset))\n",
    "    \n",
    "    train_accuracy = 1 - tf.reduce_mean(tf.square((tf.round(train_prediction) - tf_train_labels)))\n",
    "    valid_accuracy = 1 - tf.reduce_mean(tf.square((tf.round(valid_prediction) - tf_valid_labels)))\n",
    "#     test_accuracy = tf.reduce_sum(tf.square((tf.round(test_prediction) - tf)))    \n"
   ]
  },
  {
   "cell_type": "code",
   "execution_count": 90,
   "metadata": {
    "collapsed": true,
    "deletable": true,
    "editable": true
   },
   "outputs": [
    {
     "name": "stdout",
     "output_type": "stream",
     "text": [
      "563\n",
      "Test accuracy: 99.6%\n",
      "Test ROC AUC: 100.0%\n",
      "525\n",
      "Test accuracy: 99.6%\n",
      "Test ROC AUC: 100.0%\n",
      "500\n",
      "Test accuracy: 99.6%\n",
      "Test ROC AUC: 100.0%\n",
      "475\n",
      "Test accuracy: 99.6%\n",
      "Test ROC AUC: 100.0%\n",
      "450\n",
      "Test accuracy: 99.2%\n",
      "Test ROC AUC: 100.0%\n",
      "425\n",
      "Test accuracy: 99.2%\n",
      "Test ROC AUC: 100.0%\n",
      "400\n",
      "Test accuracy: 99.6%\n",
      "Test ROC AUC: 100.0%\n",
      "375\n",
      "Test accuracy: 99.6%\n",
      "Test ROC AUC: 100.0%\n",
      "350\n",
      "Test accuracy: 98.0%\n",
      "Test ROC AUC: 100.0%\n",
      "325\n",
      "Test accuracy: 99.2%\n",
      "Test ROC AUC: 100.0%\n",
      "300\n",
      "Test accuracy: 98.0%\n",
      "Test ROC AUC: 99.9%\n",
      "275\n",
      "Test accuracy: 96.8%\n",
      "Test ROC AUC: 99.5%\n",
      "250\n",
      "Test accuracy: 98.4%\n",
      "Test ROC AUC: 100.0%\n",
      "225\n",
      "Test accuracy: 96.4%\n",
      "Test ROC AUC: 99.8%\n",
      "200\n",
      "Test accuracy: 96.0%\n",
      "Test ROC AUC: 99.7%\n",
      "175\n",
      "Test accuracy: 94.8%\n",
      "Test ROC AUC: 98.9%\n",
      "150\n",
      "Test accuracy: 88.4%\n",
      "Test ROC AUC: 92.4%\n",
      "125\n",
      "Test accuracy: 52.8%\n",
      "Test ROC AUC: 54.1%\n",
      "100\n",
      "Test accuracy: 59.6%\n",
      "Test ROC AUC: 59.1%\n",
      "75\n",
      "Test accuracy: 51.6%\n",
      "Test ROC AUC: 53.5%\n",
      "50\n",
      "Test accuracy: 50.8%\n",
      "Test ROC AUC: 48.7%\n",
      "25\n",
      "Test accuracy: 52.8%\n",
      "Test ROC AUC: 51.1%\n"
     ]
    }
   ],
   "source": [
    "sizes = []\n",
    "test_accuracies = []\n",
    "for size in [563]+list(range(525, 0, -25)):\n",
    "    print(size)\n",
    "    idx = np.random.choice(np.arange(563), replace=False, size=[size])\n",
    "    trainXSmaller = trainX[idx]\n",
    "    trainYSmaller = trainY[idx]\n",
    "    num_steps = 10001\n",
    "    with tf.Session(graph=graph) as session:\n",
    "        tf.global_variables_initializer().run()\n",
    "        for step in range(num_steps):\n",
    "            offset = (step * batch_size) % (trainYSmaller.shape[0] - batch_size)\n",
    "            batch_data = trainXSmaller[offset:(offset+batch_size)]\n",
    "            batch_labels = trainYSmaller[offset:(offset+batch_size)]\n",
    "            feed_dict = {tf_train_dataset: batch_data, \n",
    "                         tf_train_labels: batch_labels}\n",
    "            _, l, batch_pred = session.run([optimizer, loss, train_prediction], feed_dict=feed_dict)\n",
    "    #         print('normalizer ', normalizer.eval())\n",
    "\n",
    "\n",
    "            if step % 200 == 0:\n",
    "                pass\n",
    "#                 print('Minibatch loss at step %d: %f' % (step, l))\n",
    "#                 print('Minibatch accuracy: %.1f%%' % (accuracy(batch_labels, batch_pred)*100))\n",
    "#                 print('Validation accuracy: %.1f%%' % (valid_accuracy.eval()*100))\n",
    "    #             print('bias ', layer1_biases.eval())\n",
    "    #             print(np.ravel(layer0_weights[0].eval()))\n",
    "    #             print(np.ravel(layer0_weights[1].eval()))\n",
    "\n",
    "        print('Test accuracy: %.1f%%' % (accuracy(testY,test_prediction.eval())*100))       \n",
    "        print('Test ROC AUC: %.1f%%' % (roc_auc_score(testY, test_prediction.eval())*100))\n",
    "        sizes.append(size)\n",
    "        test_accuracies.append(accuracy(testY,test_prediction.eval())*100)"
   ]
  },
  {
   "cell_type": "code",
   "execution_count": 91,
   "metadata": {
    "collapsed": false,
    "deletable": true,
    "editable": true,
    "scrolled": false
   },
   "outputs": [
    {
     "data": {
      "image/png": "[encoded data removed]",
      "text/plain": [
       "<matplotlib.figure.Figure at 0x7fce246346d8>"
      ]
     },
     "metadata": {},
     "output_type": "display_data"
    }
   ],
   "source": [
    "%matplotlib inline\n",
    "plt.scatter(sizes, test_accuracies)\n",
    "plt.title('Accuracy VS Training set size, original formulation')\n",
    "plt.ylabel('Test Set Accuracy (%)')\n",
    "plt.xlabel('Training Set Size')\n",
    "plt.show()"
   ]
  },
  {
   "cell_type": "code",
   "execution_count": 92,
   "metadata": {
    "collapsed": true
   },
   "outputs": [],
   "source": [
    "improved_accuracies = [99.6, 99.6, 99.6, 99.6, 99.6, 99.6, 99.6, 99.6, \n",
    "                       99.2, 99.6, 99.6, 98.8, 99.2, 98.4, 99.6, 98.8, \n",
    "                       99.2, 98.8, 98.0, 95.6, 80.4, 69.2]"
   ]
  },
  {
   "cell_type": "code",
   "execution_count": 94,
   "metadata": {
    "collapsed": false,
    "deletable": true,
    "editable": true,
    "scrolled": false
   },
   "outputs": [
    {
     "data": {
      "image/png": "[encoded data removed]",
      "text/plain": [
       "<matplotlib.figure.Figure at 0x7fce2c321c50>"
      ]
     },
     "metadata": {},
     "output_type": "display_data"
    }
   ],
   "source": [
    "%matplotlib inline\n",
    "plt.scatter(sizes, test_accuracies, label='Original Formulation')\n",
    "plt.scatter(sizes, improved_accuracies, label='Simplified Model')\n",
    "plt.title('Accuracy VS Training set size')\n",
    "plt.ylabel('Test Set Accuracy (%)')\n",
    "plt.xlabel('Training Set Size')\n",
    "plt.legend(loc='lower right')\n",
    "plt.show()"
   ]
  },
  {
   "cell_type": "code",
   "execution_count": null,
   "metadata": {
    "collapsed": true
   },
   "outputs": [],
   "source": []
  }
 ],
 "metadata": {
  "kernelspec": {
   "display_name": "Python 3",
   "language": "python",
   "name": "python3"
  },
  "language_info": {
   "codemirror_mode": {
    "name": "ipython",
    "version": 3
   },
   "file_extension": ".py",
   "mimetype": "text/x-python",
   "name": "python",
   "nbconvert_exporter": "python",
   "pygments_lexer": "ipython3",
   "version": "3.6.1"
  }
 },
 "nbformat": 4,
 "nbformat_minor": 2
}
