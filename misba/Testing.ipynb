{
 "cells": [
  {
   "cell_type": "code",
   "execution_count": 1,
   "metadata": {},
   "outputs": [],
   "source": [
    "from misvm import MISVM, miSVM\n",
    "# from minet import MINet, miNet"
   ]
  },
  {
   "cell_type": "code",
   "execution_count": 2,
   "metadata": {
    "collapsed": true
   },
   "outputs": [],
   "source": [
    "from synthetic_datasets import *"
   ]
  },
  {
   "cell_type": "code",
   "execution_count": 3,
   "metadata": {
    "collapsed": true
   },
   "outputs": [],
   "source": [
    "xlabeled, y = create_mil_dataset_v2(np.random.randint(low=5, high=10, size=1200), prob_inst_pos=0.2, negative_label=-1)\n",
    "x = remove_instance_level_labels(xlabeled)\n",
    "train_x = x[:200]\n",
    "train_y = y[:200]\n",
    "valid_x = x[200:700]\n",
    "valid_y = y[200:700]\n",
    "test_x = x[700:]\n",
    "test_y = y[700:]"
   ]
  },
  {
   "cell_type": "code",
   "execution_count": 35,
   "metadata": {},
   "outputs": [
    {
     "data": {
      "text/plain": [
       "{'C': 1.0,\n",
       " 'gamma': 1.0,\n",
       " 'kernel': 'linear',\n",
       " 'max_iters': 200,\n",
       " 'p': 3,\n",
       " 'restarts': 0,\n",
       " 'scale_C': True,\n",
       " 'sv_cutoff': 1e-07,\n",
       " 'verbose': 0}"
      ]
     },
     "execution_count": 35,
     "metadata": {},
     "output_type": "execute_result"
    }
   ],
   "source": [
    "MISVM_model = MISVM(max_iters=200, verbose=0)\n",
    "MISVM_model.get_params()"
   ]
  },
  {
   "cell_type": "code",
   "execution_count": 36,
   "metadata": {
    "collapsed": true
   },
   "outputs": [],
   "source": [
    "svm_grid = [\n",
    "{\n",
    "    'C': [0.001, 0.01, 0.1, 1.],\n",
    "    'kernel': ['linear', 'quadratic'],\n",
    "    'restarts': [2],\n",
    "    'scale_C': [True, False],\n",
    "#     'max_iters': [500],\n",
    "},\n",
    "{\n",
    "    'C': [0.001, 0.01, 0.1, 1.],\n",
    "    'kernel': ['rbf'],\n",
    "    'gamma': [0.001, 0.01, 0.1, 1.],\n",
    "    'restarts': [2],\n",
    "    'scale_C': [True, False],\n",
    "#     'max_iters': [500],\n",
    "}]"
   ]
  },
  {
   "cell_type": "code",
   "execution_count": 37,
   "metadata": {
    "scrolled": true
   },
   "outputs": [],
   "source": [
    "MISVM_model.fit(train_x, train_y)"
   ]
  },
  {
   "cell_type": "code",
   "execution_count": 38,
   "metadata": {
    "collapsed": true
   },
   "outputs": [
    {
     "data": {
      "text/plain": [
       "array([-0.18372087, -0.06223569,  0.05512764, -0.11219443,  0.11444124,\n",
       "       -0.00823105,  0.0247054 ,  0.51905237, -0.01847783, -0.28551827,\n",
       "        0.03251914, -0.06173848,  0.02690454, -0.17102926, -0.19757327,\n",
       "       -0.07049348,  0.18087989, -0.31251743, -0.22912573,  0.29414141,\n",
       "       -0.14869442,  0.31950947,  0.32487919, -0.27719813, -0.35300037,\n",
       "       -0.0026278 , -0.29393611,  0.12467022, -0.06834722, -0.21510696,\n",
       "       -0.32829618,  0.2151396 , -0.15417026, -0.17814159,  0.03497033,\n",
       "       -0.04405191, -0.16246148,  0.41405553, -0.13350074,  0.14885792,\n",
       "        0.09623475, -0.10947091,  0.03168263, -0.11283201,  0.03421844,\n",
       "       -0.0037241 ,  0.20905881,  0.13410458, -0.24922844,  0.28251072,\n",
       "       -0.23271703, -0.12317121,  0.14799177,  0.1005308 ,  0.28940354,\n",
       "        0.12245046, -0.35300061, -0.21337388, -0.19097391, -0.31789019,\n",
       "       -0.2161255 ,  0.19720834,  0.33837675,  0.05837646, -0.30407218,\n",
       "       -0.00502954, -0.29473215, -0.17574423, -0.0555017 ,  0.19095016,\n",
       "       -0.3530006 , -0.21719047, -0.00508565, -0.07843942, -0.17706539,\n",
       "        0.15681715, -0.16255755,  0.1308883 ,  0.21934011, -0.25603595,\n",
       "        0.08690197,  0.26375576, -0.19848454,  0.13130099,  0.11962035,\n",
       "       -0.26210137, -0.22523347, -0.30819297, -0.1117642 , -0.33314722,\n",
       "        0.46470679, -0.18238959, -0.14731086,  0.16110131,  0.22549446,\n",
       "        0.05826588,  0.19478495,  0.01451002, -0.28447502,  0.37962137,\n",
       "       -0.23314218,  0.25650064,  0.21124472, -0.14990396,  0.02383762,\n",
       "        0.03525212, -0.03913862, -0.04727017,  0.26735721, -0.29407953,\n",
       "       -0.15501116,  0.22188579, -0.0636058 , -0.24390696, -0.21727281,\n",
       "        0.1944712 , -0.35300061, -0.30214748, -0.10357123, -0.01199204,\n",
       "        0.49179512, -0.25171204,  0.11363258,  0.07915378, -0.0798643 ,\n",
       "        0.08589509,  0.02997316,  0.19445668, -0.19224226,  0.12780111,\n",
       "       -0.22644979, -0.05491862, -0.28415483, -0.16655973, -0.13745055,\n",
       "       -0.19696988, -0.03778712,  0.21062842,  0.1817939 ,  0.10235599,\n",
       "        0.0572822 ,  0.12610382, -0.28452617,  0.02360876, -0.22776314,\n",
       "       -0.2093754 ,  0.17601106, -0.22427416, -0.22448676, -0.34753346,\n",
       "       -0.12003801, -0.01925116,  0.11597629,  0.0006958 , -0.0102685 ,\n",
       "       -0.20733146, -0.14396784,  0.054909  ,  0.13687894, -0.15679643,\n",
       "       -0.31229058,  0.54867972, -0.35300061, -0.2828508 , -0.26155368,\n",
       "        0.05143568,  0.14960706,  0.19819622, -0.13423512,  0.31009227,\n",
       "       -0.15513388, -0.25372289,  0.01431841, -0.19050032,  0.23681331,\n",
       "       -0.19400996,  0.33444131, -0.23502537,  0.09689201,  0.22943232,\n",
       "       -0.19254597, -0.09020213, -0.06297886, -0.30257094,  0.07891126,\n",
       "       -0.35300061, -0.05176356, -0.01720782, -0.24827648,  0.20244479,\n",
       "       -0.08705057,  0.23619596, -0.2682246 , -0.12119419,  0.04333251,\n",
       "       -0.15928058, -0.21619922, -0.16619195, -0.05438201,  0.15152589])"
      ]
     },
     "execution_count": 38,
     "metadata": {},
     "output_type": "execute_result"
    }
   ],
   "source": [
    "# %%debug\n",
    "MISVM_model.predict(train_x)"
   ]
  },
  {
   "cell_type": "code",
   "execution_count": 40,
   "metadata": {
    "scrolled": true
   },
   "outputs": [
    {
     "name": "stdout",
     "output_type": "stream",
     "text": [
      "Wall time: 2min 34s\n"
     ]
    }
   ],
   "source": [
    "%%time\n",
    "MISVM_results = run_mil_grid_search(MISVM_model, svm_grid, train_x, train_y, valid_x, valid_y, negative_label=-1)"
   ]
  },
  {
   "cell_type": "code",
   "execution_count": 41,
   "metadata": {},
   "outputs": [
    {
     "data": {
      "text/plain": [
       "MISVM(C=1.0, gamma=0.01, kernel='rbf', max_iters=200, p=3, restarts=2,\n",
       "   scale_C=False, sv_cutoff=1e-07, verbose=0)"
      ]
     },
     "execution_count": 41,
     "metadata": {},
     "output_type": "execute_result"
    }
   ],
   "source": [
    "MISVM_results[0]"
   ]
  },
  {
   "cell_type": "code",
   "execution_count": 42,
   "metadata": {},
   "outputs": [
    {
     "data": {
      "text/plain": [
       "0.84799999999999998"
      ]
     },
     "execution_count": 42,
     "metadata": {},
     "output_type": "execute_result"
    }
   ],
   "source": [
    "MISVM_results[1]"
   ]
  },
  {
   "cell_type": "code",
   "execution_count": 43,
   "metadata": {},
   "outputs": [
    {
     "data": {
      "text/plain": [
       "0.872"
      ]
     },
     "execution_count": 43,
     "metadata": {},
     "output_type": "execute_result"
    }
   ],
   "source": [
    "np.mean(np.sign(MISVM_results[0].predict(test_x)) == test_y)"
   ]
  }
 ],
 "metadata": {
  "kernelspec": {
   "display_name": "Python [conda env:mi27_env]",
   "language": "python",
   "name": "conda-env-mi27_env-py"
  },
  "language_info": {
   "codemirror_mode": {
    "name": "ipython",
    "version": 2
   },
   "file_extension": ".py",
   "mimetype": "text/x-python",
   "name": "python",
   "nbconvert_exporter": "python",
   "pygments_lexer": "ipython2",
   "version": "2.7.13"
  }
 },
 "nbformat": 4,
 "nbformat_minor": 1
}
